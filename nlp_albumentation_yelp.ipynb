{
 "cells": [
  {
   "cell_type": "markdown",
   "metadata": {},
   "source": [
    "# NLP Albumentation with YELP Reviews"
   ]
  },
  {
   "cell_type": "markdown",
   "metadata": {},
   "source": [
    "## Import Libraries"
   ]
  },
  {
   "cell_type": "code",
   "execution_count": 1,
   "metadata": {},
   "outputs": [
    {
     "name": "stderr",
     "output_type": "stream",
     "text": [
      "c:\\Users\\echemochek\\anaconda3\\lib\\site-packages\\gensim\\similarities\\__init__.py:15: UserWarning: The gensim.similarities.levenshtein submodule is disabled, because the optional Levenshtein package <https://pypi.org/project/python-Levenshtein/> is unavailable. Install Levenhstein (e.g. `pip install python-Levenshtein`) to suppress this warning.\n",
      "  warnings.warn(msg)\n"
     ]
    }
   ],
   "source": [
    "import pandas as pd\n",
    "import numpy as np\n",
    "import spacy\n",
    "import seaborn as sns\n",
    "import matplotlib.pyplot as plt\n",
    "import gensim\n",
    "import nltk\n",
    "from nltk.corpus import stopwords\n",
    "from nltk.stem import PorterStemmer\n",
    "from nltk.stem.wordnet import WordNetLemmatizer\n",
    "from nltk.tokenize import word_tokenize\n",
    "from sklearn.feature_extraction.text import CountVectorizer\n",
    "from nltk.cluster import KMeansClusterer"
   ]
  },
  {
   "cell_type": "markdown",
   "metadata": {},
   "source": [
    "### Load Data"
   ]
  },
  {
   "cell_type": "code",
   "execution_count": 2,
   "metadata": {},
   "outputs": [],
   "source": [
    "data = pd.read_csv(\"data/yelp.csv\")\n",
    "dataAug = pd.read_csv(\"data/yelp_augmented.csv\")\n",
    "dataSentiment = pd.read_csv(\"data/yelpSentiment.csv\")"
   ]
  },
  {
   "cell_type": "code",
   "execution_count": 3,
   "metadata": {},
   "outputs": [],
   "source": [
    "dataSentiment = dataSentiment[[\"text\", \"polarity\"]]\n",
    "dataAug = dataAug[[\"augmented\"]]"
   ]
  },
  {
   "cell_type": "code",
   "execution_count": 4,
   "metadata": {},
   "outputs": [],
   "source": [
    "data[\"text\"] = data[\"text\"].str.lower()\n",
    "dataAug[\"augmented\"] = dataAug[\"augmented\"].str.lower()\n",
    "dataSentiment[\"text\"] = dataSentiment[\"text\"].str.lower()"
   ]
  },
  {
   "cell_type": "markdown",
   "metadata": {},
   "source": [
    "## Exploration"
   ]
  },
  {
   "cell_type": "code",
   "execution_count": null,
   "metadata": {},
   "outputs": [],
   "source": [
    "# length of each review\n",
    "data['text'].str.len().hist()"
   ]
  },
  {
   "cell_type": "code",
   "execution_count": null,
   "metadata": {},
   "outputs": [],
   "source": [
    "# number of words in each review\n",
    "data['text'].str.split().map(lambda x: len(x)).hist()"
   ]
  },
  {
   "cell_type": "code",
   "execution_count": null,
   "metadata": {},
   "outputs": [],
   "source": [
    "# average word length in each review\n",
    "data['text'].str.split().apply(lambda x : [len(i) for i in x]). map(lambda x: np.mean(x)).hist()"
   ]
  },
  {
   "cell_type": "code",
   "execution_count": null,
   "metadata": {},
   "outputs": [],
   "source": [
    "# distribution of stopwords\n",
    "stop = set(stopwords.words('english'))\n",
    "\n",
    "corpus=[]\n",
    "txt = data['text'].str.split()\n",
    "txt = txt.values.tolist()\n",
    "corpus=[word for i in txt for word in i]\n",
    "\n",
    "from collections import defaultdict\n",
    "dic = defaultdict(int)\n",
    "for word in corpus:\n",
    "    if word in stop:\n",
    "        dic[word]+=1"
   ]
  },
  {
   "cell_type": "code",
   "execution_count": null,
   "metadata": {},
   "outputs": [],
   "source": [
    "# visualize most frequent stopwords\n",
    "dic = dict(sorted(dic.items(), key=lambda item: item[1], reverse = True))\n",
    "dic_subset = {key:value for key, value in dic.items() if value > 4000}\n",
    "\n",
    "names = list(dic_subset.keys())\n",
    "values = list(dic_subset.values())\n",
    "\n",
    "plt.figure(figsize=(10,6)) \n",
    "plt.bar(range(len(dic_subset)), values, tick_label = names)\n",
    "plt.title(\"Most frequent stopwords\")\n",
    "plt.xticks(rotation = 90)\n",
    "plt.show()"
   ]
  },
  {
   "cell_type": "code",
   "execution_count": null,
   "metadata": {},
   "outputs": [],
   "source": [
    "# most frequent non-stopwords\n",
    "\n",
    "import collections\n",
    "from collections import Counter\n",
    "\n",
    "counter = Counter(corpus)\n",
    "most = counter.most_common()\n",
    "\n",
    "x, y= [], []\n",
    "for word,count in most[:40]:\n",
    "    if (word not in stop):\n",
    "        x.append(word)\n",
    "        y.append(count)\n",
    "        \n",
    "sns.barplot(x=y,y=x).set(title='Most frequent non-stopwords')"
   ]
  },
  {
   "cell_type": "code",
   "execution_count": null,
   "metadata": {},
   "outputs": [],
   "source": [
    "# most frequent n-grams\n",
    "\n",
    "def get_top_ngram(corpus, n=None):\n",
    "    vec = CountVectorizer(ngram_range=(n, n)).fit(corpus)\n",
    "    bag_of_words = vec.transform(corpus)\n",
    "    sum_words = bag_of_words.sum(axis=0) \n",
    "    words_freq = [(word, sum_words[0, idx]) \n",
    "                  for word, idx in vec.vocabulary_.items()]\n",
    "    words_freq =sorted(words_freq, key = lambda x: x[1], reverse=True)\n",
    "    return words_freq[:10]"
   ]
  },
  {
   "cell_type": "code",
   "execution_count": null,
   "metadata": {},
   "outputs": [],
   "source": [
    "# bigrams and trigrams plot\n",
    "\n",
    "def plotNgrams(df, colname, gram='bi'):\n",
    "    import seaborn as sns\n",
    "\n",
    "    # bigrams\n",
    "    if gram=='bi':\n",
    "        top_bi_grams = get_top_ngram(df[colname], n=2)\n",
    "        x_bi,y_bi = map(list,zip(*top_bi_grams))\n",
    "        plot = sns.barplot(x=y_bi, y=x_bi).set(title='Most frequent bigrams')\n",
    "\n",
    "    # trigrams\n",
    "    elif gram=='tri':\n",
    "        top_tri_grams = get_top_ngram(data['text'], n=3)\n",
    "        x_tri,y_tri = map(list,zip(*top_tri_grams))\n",
    "        plot = sns.barplot(x=y_tri, y=x_tri).set(title='Most frequent trigrams')\n",
    "\n",
    "    return plot"
   ]
  },
  {
   "cell_type": "code",
   "execution_count": null,
   "metadata": {},
   "outputs": [],
   "source": [
    "plotNgrams(df=data, colname='text', gram='tri')"
   ]
  },
  {
   "cell_type": "markdown",
   "metadata": {},
   "source": [
    "## Topic Modelling with pyLDAvis"
   ]
  },
  {
   "cell_type": "code",
   "execution_count": null,
   "metadata": {},
   "outputs": [],
   "source": [
    "def preprocess_text(df):\n",
    "    corpus=[]\n",
    "    lem = WordNetLemmatizer()\n",
    "    for txt in data['text']:\n",
    "        words=[w for w in word_tokenize(txt) if (w not in stop)]\n",
    "        \n",
    "        words=[lem.lemmatize(w) for w in words if len(w)>2]\n",
    "        \n",
    "        corpus.append(words)\n",
    "    return corpus\n",
    "\n",
    "corpus = preprocess_text(txt)"
   ]
  },
  {
   "cell_type": "code",
   "execution_count": null,
   "metadata": {},
   "outputs": [],
   "source": [
    "# BOW model\n",
    "dic_bow = gensim.corpora.Dictionary(corpus)\n",
    "bow_corpus = [dic_bow.doc2bow(doc) for doc in corpus]"
   ]
  },
  {
   "cell_type": "code",
   "execution_count": null,
   "metadata": {},
   "outputs": [],
   "source": [
    "# LDA model\n",
    "lda_model = gensim.models.LdaMulticore(bow_corpus, \n",
    "                                   num_topics = 4, \n",
    "                                   id2word = dic_bow,                                    \n",
    "                                   passes = 10,\n",
    "                                   workers = 2)\n",
    "lda_model.show_topics()"
   ]
  },
  {
   "cell_type": "code",
   "execution_count": null,
   "metadata": {},
   "outputs": [],
   "source": [
    "# interacting with LDA output\n",
    "\n",
    "#!pip install pyldavis\n",
    "\n",
    "import pyLDAvis\n",
    "import pyLDAvis.gensim_models as gensimvis\n",
    "\n",
    "pyLDAvis.enable_notebook()\n",
    "\n",
    "vis = gensimvis.prepare(lda_model, bow_corpus, dic_bow)\n",
    "vis"
   ]
  },
  {
   "cell_type": "markdown",
   "metadata": {},
   "source": [
    "## Wordcloud"
   ]
  },
  {
   "cell_type": "code",
   "execution_count": null,
   "metadata": {},
   "outputs": [],
   "source": [
    "from wordcloud import WordCloud, STOPWORDS\n",
    "stopwords = set(STOPWORDS)\n",
    "\n",
    "def show_wordcloud(data):\n",
    "    wordcloud = WordCloud(\n",
    "        background_color='white',\n",
    "        stopwords=stopwords,\n",
    "        max_words=100,\n",
    "        max_font_size=30,\n",
    "        scale=3,\n",
    "        random_state=42)\n",
    "   \n",
    "    wordcloud = wordcloud.generate(str(data))\n",
    "\n",
    "    fig = plt.figure(1, figsize=(12, 12))\n",
    "    plt.axis('off')\n",
    "\n",
    "    plt.imshow(wordcloud)\n",
    "    plt.show()\n",
    "\n",
    "show_wordcloud(corpus)"
   ]
  },
  {
   "cell_type": "markdown",
   "metadata": {},
   "source": [
    "## Sentiment"
   ]
  },
  {
   "cell_type": "code",
   "execution_count": 8,
   "metadata": {},
   "outputs": [],
   "source": [
    "from textblob import TextBlob\n",
    "\n",
    "# polarity\n",
    "def polarity(text):\n",
    "    return TextBlob(text).sentiment.polarity\n",
    "\n",
    "\n",
    "# sentiment classification\n",
    "def sentiment(x):\n",
    "    if x< -0.2:\n",
    "        return 'neg'\n",
    "    elif x>=-0.2 and x<=0.2:\n",
    "        return 'neu'\n",
    "    else:\n",
    "        return 'pos'"
   ]
  },
  {
   "cell_type": "code",
   "execution_count": 9,
   "metadata": {},
   "outputs": [
    {
     "data": {
      "text/plain": [
       "[Text(0.5, 1.0, 'Distribution of Polarity Score')]"
      ]
     },
     "execution_count": 9,
     "metadata": {},
     "output_type": "execute_result"
    },
    {
     "data": {
      "image/png": "[encoded data removed]",
      "text/plain": [
       "<Figure size 432x288 with 1 Axes>"
      ]
     },
     "metadata": {
      "needs_background": "light"
     },
     "output_type": "display_data"
    }
   ],
   "source": [
    "data['polarity_score']= data['text'].apply(lambda x : polarity(x))\n",
    "data['polarity_score'].hist().set(title='Distribution of Polarity Score')"
   ]
  },
  {
   "cell_type": "code",
   "execution_count": 10,
   "metadata": {},
   "outputs": [
    {
     "data": {
      "text/plain": [
       "Text(0.5, 1.0, 'Polarity of Reviews')"
      ]
     },
     "execution_count": 10,
     "metadata": {},
     "output_type": "execute_result"
    },
    {
     "data": {
      "image/png": "[encoded data removed]",
      "text/plain": [
       "<Figure size 576x432 with 1 Axes>"
      ]
     },
     "metadata": {
      "needs_background": "light"
     },
     "output_type": "display_data"
    }
   ],
   "source": [
    "data['polarity'] = data['polarity_score'].map(lambda x: sentiment(x))\n",
    "\n",
    "plt.figure(figsize=(8,6))\n",
    "plt.bar(data.polarity.value_counts().index,\n",
    "        data.polarity.value_counts()) \n",
    "plt.title(\"Polarity of Reviews\")"
   ]
  },
  {
   "cell_type": "code",
   "execution_count": null,
   "metadata": {},
   "outputs": [],
   "source": [
    "# data.to_csv(\"data/yelpSentiment.csv\")"
   ]
  },
  {
   "cell_type": "markdown",
   "metadata": {},
   "source": [
    "# NER"
   ]
  },
  {
   "cell_type": "code",
   "execution_count": null,
   "metadata": {},
   "outputs": [],
   "source": [
    "# !python -m spacy download en_core_web_sm"
   ]
  },
  {
   "cell_type": "code",
   "execution_count": null,
   "metadata": {},
   "outputs": [],
   "source": [
    "nlp = spacy.load(\"en_core_web_sm\")\n",
    "\n",
    "def ner(text):\n",
    "    doc = nlp(text)\n",
    "    return [X.label_ for X in doc.ents]\n",
    "\n",
    "ent = data['text'].apply(lambda x : ner(x))\n",
    "ent = [x for sub in ent for x in sub]\n",
    "\n",
    "counter = Counter(ent)\n",
    "count = counter.most_common()"
   ]
  },
  {
   "cell_type": "code",
   "execution_count": null,
   "metadata": {},
   "outputs": [],
   "source": [
    "# entity frequencies visualization\n",
    "x,y = map(list,zip(*count))\n",
    "sns.barplot(x=y, y=x).set(title='Entity Classes in the Reviews')"
   ]
  },
  {
   "cell_type": "code",
   "execution_count": null,
   "metadata": {},
   "outputs": [],
   "source": [
    "# we can then visualize token per entity\n",
    "\n",
    "def ner(text,ent=\"ORG\"):\n",
    "    doc = nlp(text)\n",
    "    return [X.text for X in doc.ents if X.label_ == ent]"
   ]
  },
  {
   "cell_type": "code",
   "execution_count": null,
   "metadata": {},
   "outputs": [],
   "source": [
    "# a look at the date entities mentioned in the reviews\n",
    "org = data['text'].apply(lambda x: ner(x, \"DATE\"))\n",
    "org = [i for x in org for i in x]\n",
    "counter = Counter(org)\n",
    "\n",
    "x,y = map(list,zip(*counter.most_common(10)))\n",
    "sns.barplot(y, x).set(title='Most Mentioned Date Entities')"
   ]
  },
  {
   "cell_type": "code",
   "execution_count": null,
   "metadata": {},
   "outputs": [],
   "source": [
    "# a look at the organizations mentioned in the reviews\n",
    "org = data['text'].apply(lambda x: ner(x, ent=\"ORG\"))\n",
    "org = [i for x in org for i in x]\n",
    "counter = Counter(org)\n",
    "\n",
    "x,y = map(list,zip(*counter.most_common(10)))\n",
    "sns.barplot(y, x).set(title='Most Mentioned Organizations')"
   ]
  },
  {
   "cell_type": "code",
   "execution_count": null,
   "metadata": {},
   "outputs": [],
   "source": [
    "# a look at the places mentioned in the reviews\n",
    "org = data['text'].apply(lambda x: ner(x, \"PERSON\"))\n",
    "org = [i for x in org for i in x]\n",
    "counter = Counter(org)\n",
    "\n",
    "x,y = map(list,zip(*counter.most_common(10)))\n",
    "sns.barplot(y, x).set(title='Most Mentioned People')"
   ]
  },
  {
   "cell_type": "markdown",
   "metadata": {},
   "source": [
    "## POS Exploration"
   ]
  },
  {
   "cell_type": "code",
   "execution_count": null,
   "metadata": {},
   "outputs": [],
   "source": [
    "def pos(text):\n",
    "    pos=nltk.pos_tag(word_tokenize(text))\n",
    "    pos=list(map(list,zip(*pos)))[1]\n",
    "    return pos\n",
    "\n",
    "tags = data['text'].apply(lambda x : pos(x))\n",
    "tags=[x for l in tags for x in l]\n",
    "counter = Counter(tags)\n",
    "\n",
    "x,y = list(map(list,zip(*counter.most_common(7))))\n",
    "sns.barplot(x=y,y=x)"
   ]
  },
  {
   "cell_type": "markdown",
   "metadata": {},
   "source": [
    "- Noun (NN)\n",
    "- Verb (VB)\n",
    "- Adjective (JJ)\n",
    "- Adverb(RB)\n",
    "- Preposition (IN)\n",
    "- Conjunction (CC)\n",
    "- Pronoun(PRP)\n",
    "- Interjection (INT)"
   ]
  },
  {
   "cell_type": "code",
   "execution_count": null,
   "metadata": {},
   "outputs": [],
   "source": [
    "# drilling down even further: looking at NN\n",
    "def get_adjs(text):\n",
    "    adj=[]\n",
    "    pos = nltk.pos_tag(word_tokenize(text))\n",
    "    for word,tag in pos:\n",
    "        if tag=='NN':\n",
    "            adj.append(word)\n",
    "    return adj\n",
    "\n",
    "\n",
    "words = data['text'].apply(lambda x : get_adjs(x))\n",
    "words = [x for l in words for x in l]\n",
    "counter = Counter(words)\n",
    "\n",
    "x,y = list(map(list,zip(*counter.most_common(7))))\n",
    "sns.barplot(x=y, y=x)"
   ]
  },
  {
   "cell_type": "markdown",
   "metadata": {},
   "source": [
    "### Embeddings with BERT (Hugging Face's transformer architecture)"
   ]
  },
  {
   "cell_type": "code",
   "execution_count": null,
   "metadata": {},
   "outputs": [],
   "source": [
    "'''\n",
    "# be sure to download the pretrained transformer via the spaCy pipeline\n",
    "# !spacy download en_core_web_trf\n",
    "# !pip install spacy-transformers\n",
    "\n",
    "import en_core_web_trf\n",
    "\n",
    "txt = \"The quick brown fox jumps over the lazy dog\"\n",
    "\n",
    "#Load the bert model\n",
    "nlp = en_core_web_trf.load()#spacy.load(\"en_core_web_trf\", disable=[\"tagger\", \"attribute_ruler\", \"lemmatizer\"])\n",
    "\n",
    "# get sentence embeddings from input text\n",
    "def get_embeddings(text):\n",
    "    return nlp(text).\n",
    "    \n",
    "    # Generating sentence embedding from the text\n",
    "# data['embeddings'] = data['text'].apply(get_embeddings)\n",
    "\n",
    "df = get_embeddings(txt)\n",
    "\n",
    "# it takes time to run BERT so its better to save the updated data for future use\n",
    "# data.to_csv(\"data/yelp_embeddings.csv\")\n",
    "\n",
    "# Transformer outputs sequences longer than the maximum length for the model (537 > 512). We will truncate the output.\n",
    "\n",
    "# df = pd.read_csv(\"data/yelp_embeddings.csv\")\n",
    "\n",
    "'''"
   ]
  },
  {
   "cell_type": "code",
   "execution_count": 13,
   "metadata": {},
   "outputs": [],
   "source": [
    "dataAug[\"polarity\"] = dataSentiment[\"polarity\"]\n",
    "dataAug.rename(columns={\"augmented\": \"text\"}, inplace = True)\n",
    "\n",
    "merged_df = dataSentiment.append(dataAug, ignore_index=True)"
   ]
  },
  {
   "cell_type": "markdown",
   "metadata": {},
   "source": [
    "## Base Clustering Algorithm"
   ]
  },
  {
   "cell_type": "code",
   "execution_count": null,
   "metadata": {},
   "outputs": [],
   "source": [
    "'''\n",
    "## Import libraries\n",
    "def clustering_question(data, NUM_CLUSTERS = 15):\n",
    "\n",
    "    sentences = data['text']\n",
    "\n",
    "    X = np.array(data['emb'].tolist())\n",
    "\n",
    "    kclusterer = KMeansClusterer(\n",
    "        NUM_CLUSTERS, distance=nltk.cluster.util.cosine_distance,\n",
    "        repeats=25,avoid_empty_clusters=True)\n",
    "\n",
    "    assigned_clusters = kclusterer.cluster(X, assign_clusters=True)\n",
    "\n",
    "    data['cluster'] = pd.Series(assigned_clusters, index=data.index)\n",
    "    data['centroid'] = data['cluster'].apply(lambda x: kclusterer.means()[x])\n",
    "\n",
    "    return data, assigned_clusters\n",
    "\n",
    "def distance_from_centroid(row):\n",
    "    # type of emb and centroid is different, hence using tolist below\n",
    "    return distance_matrix([row['emb']], [row['centroid'].tolist()])[0][0]\n",
    "\n",
    "# Compute centroid distance to the data\n",
    "data['distance_from_centroid'] = data.apply(distance_from_centroid, axis=1)\n",
    "\n",
    "# df = dataSentiment.copy()\n",
    "df = data.copy()\n",
    "\n",
    "'''"
   ]
  },
  {
   "cell_type": "markdown",
   "metadata": {},
   "source": [
    "## Base Classifier Algorithm"
   ]
  },
  {
   "cell_type": "code",
   "execution_count": 14,
   "metadata": {},
   "outputs": [],
   "source": [
    "# label encoding the classes\n",
    "from sklearn.preprocessing import LabelEncoder\n",
    "encoder = LabelEncoder()\n",
    "\n",
    "encoder.fit(dataSentiment['polarity'])\n",
    "\n",
    "dataSentiment['category'] = encoder.transform(dataSentiment['polarity'])\n",
    "merged_df['category'] = encoder.transform(merged_df['polarity'])"
   ]
  },
  {
   "cell_type": "code",
   "execution_count": 15,
   "metadata": {},
   "outputs": [],
   "source": [
    "# train-test split\n",
    "def splitStep(df=dataSentiment, X=\"text\", y=\"category\", test_size=0.2, random_state=42):\n",
    "    from sklearn.model_selection import train_test_split\n",
    "\n",
    "    xtrain, xtest, ytrain, ytest = train_test_split(dataSentiment[X], dataSentiment[y], stratify=dataSentiment[y], test_size=test_size)\n",
    "\n",
    "    return xtrain, xtest, ytrain, ytest\n",
    "\n",
    "\n",
    "# word vectorizer\n",
    "def w2v(x, num_features=100): # xtrain & xtest will be accessed from the vectorizeStep (ignore warning)\n",
    "    import numpy as np\n",
    "    from gensim.models import Word2Vec\n",
    "\n",
    "    wordvec = Word2Vec(x, window=8, min_count=2, sample=1e-3, sg=1, workers=8) \n",
    "    vocab = set(wordvec.wv.index_to_key)\n",
    "    num_features = num_features\n",
    "\n",
    "    def average_word_vectors(tokens, model, vocabulary, num_features):\n",
    "        feature_vector = np.zeros((num_features,), dtype=\"float64\")\n",
    "        ntokens = 0.\n",
    "        for t in tokens:\n",
    "            if t in vocabulary: \n",
    "                ntokens = ntokens + 1.\n",
    "                feature_vector = np.add(feature_vector, model.wv[t])\n",
    "        if ntokens:\n",
    "            feature_vector = np.divide(feature_vector, ntokens)\n",
    "        return feature_vector\n",
    "\n",
    "    xTransformed = np.array([average_word_vectors(sent_tokens, wordvec, vocab, num_features) \n",
    "                    for sent_tokens in x]) \n",
    "    return xTransformed\n",
    "\n",
    "\n",
    "# document vectorizer\n",
    "def d2v(x):\n",
    "    from gensim.models.doc2vec import Doc2Vec, TaggedDocument\n",
    "\n",
    "    docs = [TaggedDocument(doc, [i]) for i, doc in enumerate(x)]\n",
    "    docvec = Doc2Vec(vector_size=100, window=3, min_count=4, workers=4, epochs=40)\n",
    "    docvec.build_vocab(docs)\n",
    "    docvec.train(docs, total_examples=docvec.corpus_count, epochs=docvec.epochs)\n",
    "\n",
    "    from gensim.utils import simple_preprocess\n",
    "    xTokenized = [simple_preprocess(h) for h in x]\n",
    "\n",
    "    xTransformed = [docvec.infer_vector(i) for i in xTokenized]\n",
    "\n",
    "    return xTransformed\n",
    "\n",
    "\n",
    "# transform data (options: TF-IDF, TF-IDF ngrams, word2vec, doc2vec)\n",
    "def vectorizeStep(inputData, fittingData=data.text, outputFormat=\"tfidf\"):\n",
    "    \n",
    "    # TF-IDF input\n",
    "    if outputFormat == \"tfidf\":\n",
    "        from sklearn.feature_extraction.text import TfidfVectorizer\n",
    "        vectorizer = TfidfVectorizer(\n",
    "                            strip_accents=\"unicode\", lowercase=True, analyzer='word', \n",
    "                            stop_words='english', max_df=0.95, min_df=0.05, max_features=500\n",
    "                                )\n",
    "        vectorizer.fit(fittingData)\n",
    "        \n",
    "        transformedData = vectorizer.transform(inputData)\n",
    "    \n",
    "    # TF-IDF ngrams input\n",
    "    elif outputFormat == \"ngrams\":\n",
    "        from sklearn.feature_extraction.text import TfidfVectorizer\n",
    "        vectorizer = TfidfVectorizer(\n",
    "                            strip_accents=\"unicode\", lowercase=True, analyzer='word', ngram_range=(2,3), \n",
    "                            max_df=0.95, min_df=0.05, max_features=500\n",
    "                            )\n",
    "        vectorizer.fit(fittingData)\n",
    "        \n",
    "        transformedData = vectorizer.transform(inputData)\n",
    "\n",
    "    # word vector input\n",
    "    elif outputFormat == \"word2vec\":\n",
    "        transformedData = w2v(inputData)\n",
    "\n",
    "    # document vector input\n",
    "    elif outputFormat == \"doc2vec\":\n",
    "        transformedData = d2v(inputData)\n",
    "        \n",
    "    return transformedData\n",
    "\n",
    "\n",
    "# train models\n",
    "def trainStep(classifier: str, x_input, y_input):\n",
    "    \n",
    "    # import GridSearchCV\n",
    "    from sklearn.model_selection import GridSearchCV\n",
    "\n",
    "    # create a SVC model using GridSearchCV\n",
    "    if classifier == \"svc\":\n",
    "        \n",
    "        # import SVC\n",
    "        from sklearn.svm import SVC\n",
    "\n",
    "        param_grid = {\n",
    "                        'C': [0.1, 1, 10, 100, 1000],'gamma': [1, 0.1, 0.01, 0.001, 0.0001],\n",
    "                        'kernel': ['linear', 'rbf', 'sigmoid']} \n",
    "        \n",
    "\n",
    "        \n",
    "        model = GridSearchCV(SVC(), param_grid, refit = True, verbose = 3)\n",
    "\n",
    "    # create an XGBoost model\n",
    "    elif classifier == \"xgboost\":\n",
    "        import xgboost\n",
    "        model = xgboost.XGBClassifier()\n",
    "\n",
    "    # create a knn model\n",
    "    elif classifier == \"knn\":\n",
    "\n",
    "        # import KNN\n",
    "        from sklearn.neighbors import KNeighborsClassifier\n",
    "\n",
    "        k_range = list(range(1, 31))\n",
    "        param_grid = dict(n_neighbors=k_range)\n",
    "        \n",
    "        model = GridSearchCV(KNeighborsClassifier(), param_grid, cv=10, scoring='accuracy')\n",
    "    \n",
    "    m = model.fit(x_input, y_input)\n",
    "    \n",
    "    return m\n",
    "\n",
    "\n",
    "# predict on the xtest \n",
    "def predictStep(trainedModel, x_input):\n",
    "    predictions = trainedModel.predict(x_input)\n",
    "    return predictions\n",
    "\n",
    "# evaluate on ytest \n",
    "def evaluateStep(ytrue, ypred):\n",
    "    from sklearn.metrics import precision_recall_fscore_support as score\n",
    "    from sklearn.metrics import accuracy_score\n",
    "    \n",
    "    precision,recall,fscore,_=score(ytrue,ypred, average='macro')\n",
    "    accuracy = accuracy_score(ytrue,ypred)\n",
    "\n",
    "    return round(precision,4), round(recall,4), round(fscore,4), round(accuracy,4) #,roc_auc\n",
    "    "
   ]
  },
  {
   "cell_type": "code",
   "execution_count": 31,
   "metadata": {},
   "outputs": [],
   "source": [
    "# dictionary to store f1 scores of different models\n",
    "f1ScoreMetrics = {'xgboost': [],'knn': []}\n",
    "\n",
    "# dictionary to store accuracy scores of different models\n",
    "accuracyScoreMetrics = {'xgboost': [],'knn': []}"
   ]
  },
  {
   "cell_type": "code",
   "execution_count": 32,
   "metadata": {},
   "outputs": [
    {
     "name": "stderr",
     "output_type": "stream",
     "text": [
      "c:\\Users\\echemochek\\anaconda3\\lib\\site-packages\\xgboost\\sklearn.py:1146: UserWarning: The use of label encoder in XGBClassifier is deprecated and will be removed in a future release. To remove this warning, do the following: 1) Pass option use_label_encoder=False when constructing XGBClassifier object; and 2) Encode your labels (y) as integers starting with 0, i.e. 0, 1, 2, ..., [num_class - 1].\n",
      "  warnings.warn(label_encoder_deprecation_msg, UserWarning)\n"
     ]
    },
    {
     "name": "stdout",
     "output_type": "stream",
     "text": [
      "[23:55:16] WARNING: C:/Users/Administrator/workspace/xgboost-win64_release_1.4.0/src/learner.cc:1095: Starting in XGBoost 1.3.0, the default evaluation metric used with the objective 'multi:softprob' was changed from 'merror' to 'mlogloss'. Explicitly set eval_metric if you'd like to restore the old behavior.\n"
     ]
    },
    {
     "name": "stderr",
     "output_type": "stream",
     "text": [
      "c:\\Users\\echemochek\\anaconda3\\lib\\site-packages\\xgboost\\sklearn.py:1146: UserWarning: The use of label encoder in XGBClassifier is deprecated and will be removed in a future release. To remove this warning, do the following: 1) Pass option use_label_encoder=False when constructing XGBClassifier object; and 2) Encode your labels (y) as integers starting with 0, i.e. 0, 1, 2, ..., [num_class - 1].\n",
      "  warnings.warn(label_encoder_deprecation_msg, UserWarning)\n"
     ]
    },
    {
     "name": "stdout",
     "output_type": "stream",
     "text": [
      "[23:55:34] WARNING: C:/Users/Administrator/workspace/xgboost-win64_release_1.4.0/src/learner.cc:1095: Starting in XGBoost 1.3.0, the default evaluation metric used with the objective 'multi:softprob' was changed from 'merror' to 'mlogloss'. Explicitly set eval_metric if you'd like to restore the old behavior.\n"
     ]
    },
    {
     "name": "stderr",
     "output_type": "stream",
     "text": [
      "c:\\Users\\echemochek\\anaconda3\\lib\\site-packages\\sklearn\\metrics\\_classification.py:1248: UndefinedMetricWarning: Precision and F-score are ill-defined and being set to 0.0 in labels with no predicted samples. Use `zero_division` parameter to control this behavior.\n",
      "  _warn_prf(average, modifier, msg_start, len(result))\n"
     ]
    }
   ],
   "source": [
    "# train-test split the data \n",
    "xTrn, xTst, yTrn, yTst = splitStep(df=data, X=\"text\", y=\"category\")\n",
    "\n",
    "# models and inputs\n",
    "modelList = ['xgboost', 'knn']\n",
    "dataFormats = ['tfidf', 'ngrams']\n",
    "trainedModels = [] # to store the models we train to use later\n",
    "\n",
    "# fit model, train on training data, test on the testing set, append scores to dictionaries\n",
    "for model in modelList:\n",
    "    for dataFormat in dataFormats:\n",
    "\n",
    "        # vectorize\n",
    "        xtrainVectorized = vectorizeStep(xTrn, outputFormat=dataFormat)\n",
    "        xtestVectorized = vectorizeStep(xTst, outputFormat=dataFormat)\n",
    "\n",
    "        # train\n",
    "        trainedModel = trainStep(model, xtrainVectorized, yTrn)\n",
    "\n",
    "        # predict\n",
    "        ypreds = predictStep(trainedModel, xtestVectorized)\n",
    "\n",
    "        # evaluate\n",
    "        metrics = evaluateStep(yTst, ypreds)\n",
    "\n",
    "        # append trained models to a list and metrics to a dictionary\n",
    "        trainedModels.append(trainedModel) \n",
    "        f1ScoreMetrics[model].append(metrics[2])\n",
    "        accuracyScoreMetrics[model].append(metrics[3])"
   ]
  },
  {
   "cell_type": "code",
   "execution_count": 33,
   "metadata": {},
   "outputs": [],
   "source": [
    "# function for highlighting best model\n",
    "def highlight_cells(val):\n",
    "    color = 'yellow' if val == maxVal else ''\n",
    "    return 'background-color: {}'.format(color)"
   ]
  },
  {
   "cell_type": "code",
   "execution_count": 34,
   "metadata": {},
   "outputs": [
    {
     "data": {
      "text/html": [
       "<style type=\"text/css\">\n",
       "#T_6e447_row0_col0 {\n",
       "  background-color: yellow;\n",
       "}\n",
       "#T_6e447_row0_col1, #T_6e447_row1_col0, #T_6e447_row1_col1 {\n",
       "  background-color: ;\n",
       "}\n",
       "</style>\n",
       "<table id=\"T_6e447_\">\n",
       "  <thead>\n",
       "    <tr>\n",
       "      <th class=\"blank level0\" >&nbsp;</th>\n",
       "      <th class=\"col_heading level0 col0\" >xgboost</th>\n",
       "      <th class=\"col_heading level0 col1\" >knn</th>\n",
       "    </tr>\n",
       "  </thead>\n",
       "  <tbody>\n",
       "    <tr>\n",
       "      <th id=\"T_6e447_level0_row0\" class=\"row_heading level0 row0\" >tfidf</th>\n",
       "      <td id=\"T_6e447_row0_col0\" class=\"data row0 col0\" >0.524900</td>\n",
       "      <td id=\"T_6e447_row0_col1\" class=\"data row0 col1\" >0.412600</td>\n",
       "    </tr>\n",
       "    <tr>\n",
       "      <th id=\"T_6e447_level0_row1\" class=\"row_heading level0 row1\" >ngrams</th>\n",
       "      <td id=\"T_6e447_row1_col0\" class=\"data row1 col0\" >0.396800</td>\n",
       "      <td id=\"T_6e447_row1_col1\" class=\"data row1 col1\" >0.361400</td>\n",
       "    </tr>\n",
       "  </tbody>\n",
       "</table>\n"
      ],
      "text/plain": [
       "<pandas.io.formats.style.Styler at 0x1ee9aef7d00>"
      ]
     },
     "execution_count": 34,
     "metadata": {},
     "output_type": "execute_result"
    }
   ],
   "source": [
    "# display f1 scores in a formatted dataframe\n",
    "f1_df = pd.DataFrame.from_dict(f1ScoreMetrics)\n",
    "f1_df.set_index([pd.Index(dataFormats)], inplace=True)\n",
    "\n",
    "maxVal = f1_df.max().max()\n",
    "f1_df.style.applymap(highlight_cells)"
   ]
  },
  {
   "cell_type": "code",
   "execution_count": 35,
   "metadata": {},
   "outputs": [
    {
     "data": {
      "text/html": [
       "<style type=\"text/css\">\n",
       "#T_13947_row0_col0 {\n",
       "  background-color: yellow;\n",
       "}\n",
       "#T_13947_row0_col1, #T_13947_row1_col0, #T_13947_row1_col1 {\n",
       "  background-color: ;\n",
       "}\n",
       "</style>\n",
       "<table id=\"T_13947_\">\n",
       "  <thead>\n",
       "    <tr>\n",
       "      <th class=\"blank level0\" >&nbsp;</th>\n",
       "      <th class=\"col_heading level0 col0\" >xgboost</th>\n",
       "      <th class=\"col_heading level0 col1\" >knn</th>\n",
       "    </tr>\n",
       "  </thead>\n",
       "  <tbody>\n",
       "    <tr>\n",
       "      <th id=\"T_13947_level0_row0\" class=\"row_heading level0 row0\" >tfidf</th>\n",
       "      <td id=\"T_13947_row0_col0\" class=\"data row0 col0\" >0.744500</td>\n",
       "      <td id=\"T_13947_row0_col1\" class=\"data row0 col1\" >0.602000</td>\n",
       "    </tr>\n",
       "    <tr>\n",
       "      <th id=\"T_13947_level0_row1\" class=\"row_heading level0 row1\" >ngrams</th>\n",
       "      <td id=\"T_13947_row1_col0\" class=\"data row1 col0\" >0.622000</td>\n",
       "      <td id=\"T_13947_row1_col1\" class=\"data row1 col1\" >0.591000</td>\n",
       "    </tr>\n",
       "  </tbody>\n",
       "</table>\n"
      ],
      "text/plain": [
       "<pandas.io.formats.style.Styler at 0x1ee9b45f8b0>"
      ]
     },
     "execution_count": 35,
     "metadata": {},
     "output_type": "execute_result"
    }
   ],
   "source": [
    "# display recall scores in a formatted dataframe\n",
    "accuracy_df = pd.DataFrame.from_dict(accuracyScoreMetrics)\n",
    "accuracy_df.set_index([pd.Index(dataFormats)], inplace=True)\n",
    "\n",
    "maxVal = accuracy_df.max().max()\n",
    "accuracy_df.style.applymap(highlight_cells)"
   ]
  },
  {
   "cell_type": "code",
   "execution_count": null,
   "metadata": {},
   "outputs": [],
   "source": [
    "# the winning model is stored in the trainedModels list in index 4\n",
    "winningModel = trainedModels[0]\n",
    "winningModel"
   ]
  },
  {
   "cell_type": "markdown",
   "metadata": {},
   "source": [
    "### Now use the model on augmented data"
   ]
  },
  {
   "cell_type": "code",
   "execution_count": null,
   "metadata": {},
   "outputs": [],
   "source": [
    "df_albumentation = pd.read_csv(\"data/yelp_augmented_syn_ant_5K_only.csv\")\n",
    "df_albumentation.head()"
   ]
  },
  {
   "cell_type": "code",
   "execution_count": null,
   "metadata": {},
   "outputs": [],
   "source": [
    "# let us create on large dataset! \n",
    "df_full = df_albumentation['text']\\\n",
    "            .append(df_albumentation['augmented'])\\\n",
    "                .append(df_albumentation['syn_augmented'])\\\n",
    "                    .append(df_albumentation['ant_augmented'])\\\n",
    "                        .reset_index(drop=True)\n",
    "\n",
    "# create a new dataframe with the same name from the data\n",
    "df_full = pd.DataFrame(data=df_full, columns=['text'], dtype=str) # this new dataframe has 20000 observations."
   ]
  },
  {
   "cell_type": "code",
   "execution_count": null,
   "metadata": {},
   "outputs": [],
   "source": [
    "'''\n",
    "creating labels (sentiment for this dataset using the defined method in earlier steps\n",
    "we do this instead of using labels from the parent column because the albumentation may \n",
    "have changed sentiments for some observations\n",
    "'''\n",
    "df_full['polarity_score']= df_full['text'].apply(lambda x : polarity(str(x)))\n",
    "df_full['polarity'] = df_full['polarity_score'].map(lambda x: sentiment(x))\n",
    "\n",
    "# we drop any potential duplicates - albumentation is not perfect\n",
    "df_full.drop_duplicates(inplace=True)\n",
    "\n",
    "# save dataframe with specific columns as new dataset so we can easily load it next time\n",
    "# df_full[['text', 'polarity']].to_csv(\"data/yelpAugmentedFinal.csv\")"
   ]
  },
  {
   "cell_type": "code",
   "execution_count": 20,
   "metadata": {},
   "outputs": [],
   "source": [
    "# load the data with final data\n",
    "df = pd.read_csv(\"data/yelpAugmentedFinal.csv\")"
   ]
  },
  {
   "cell_type": "code",
   "execution_count": null,
   "metadata": {},
   "outputs": [],
   "source": [
    "# dictionary to store f1 scores of different models\n",
    "f1ScoreMetricsAug = {'xgboost': []}\n",
    "\n",
    "# dictionary to store accuracy scores of different models\n",
    "accuracyScoreMetricsAug = {'xgboost': []}\n",
    "\n",
    "# drop any null values\n",
    "df.dropna(inplace=True)\n",
    "\n",
    "# save as training\n",
    "xTrnAug = df[\"text\"]\n",
    "yTrnAug = df[\"polarity\"]\n",
    "\n",
    "\n",
    "# vectorize\n",
    "xtrainVectorizedAug = vectorizeStep(xTrnAug, fittingData=df.text)\n",
    "\n",
    "#xtestVectorized = vectorizeStep(xTst, outputFormat=\"tfidf\")"
   ]
  },
  {
   "cell_type": "code",
   "execution_count": 25,
   "metadata": {},
   "outputs": [
    {
     "name": "stderr",
     "output_type": "stream",
     "text": [
      "c:\\Users\\echemochek\\anaconda3\\lib\\site-packages\\xgboost\\sklearn.py:1146: UserWarning: The use of label encoder in XGBClassifier is deprecated and will be removed in a future release. To remove this warning, do the following: 1) Pass option use_label_encoder=False when constructing XGBClassifier object; and 2) Encode your labels (y) as integers starting with 0, i.e. 0, 1, 2, ..., [num_class - 1].\n",
      "  warnings.warn(label_encoder_deprecation_msg, UserWarning)\n"
     ]
    },
    {
     "name": "stdout",
     "output_type": "stream",
     "text": [
      "[23:38:56] WARNING: C:/Users/Administrator/workspace/xgboost-win64_release_1.4.0/src/learner.cc:1095: Starting in XGBoost 1.3.0, the default evaluation metric used with the objective 'multi:softprob' was changed from 'merror' to 'mlogloss'. Explicitly set eval_metric if you'd like to restore the old behavior.\n"
     ]
    },
    {
     "name": "stderr",
     "output_type": "stream",
     "text": [
      "c:\\Users\\echemochek\\anaconda3\\lib\\site-packages\\xgboost\\sklearn.py:1146: UserWarning: The use of label encoder in XGBClassifier is deprecated and will be removed in a future release. To remove this warning, do the following: 1) Pass option use_label_encoder=False when constructing XGBClassifier object; and 2) Encode your labels (y) as integers starting with 0, i.e. 0, 1, 2, ..., [num_class - 1].\n",
      "  warnings.warn(label_encoder_deprecation_msg, UserWarning)\n"
     ]
    },
    {
     "name": "stdout",
     "output_type": "stream",
     "text": [
      "[23:39:20] WARNING: C:/Users/Administrator/workspace/xgboost-win64_release_1.4.0/src/learner.cc:1095: Starting in XGBoost 1.3.0, the default evaluation metric used with the objective 'multi:softprob' was changed from 'merror' to 'mlogloss'. Explicitly set eval_metric if you'd like to restore the old behavior.\n"
     ]
    },
    {
     "name": "stderr",
     "output_type": "stream",
     "text": [
      "c:\\Users\\echemochek\\anaconda3\\lib\\site-packages\\sklearn\\metrics\\_classification.py:1248: UndefinedMetricWarning: Precision and F-score are ill-defined and being set to 0.0 in labels with no predicted samples. Use `zero_division` parameter to control this behavior.\n",
      "  _warn_prf(average, modifier, msg_start, len(result))\n"
     ]
    }
   ],
   "source": [
    "# drop null values\n",
    "df.dropna(inplace=True)\n",
    "\n",
    "# label encode and add new column\n",
    "df['category'] = encoder.transform(df['polarity'])\n",
    "\n",
    "# save as training\n",
    "xTrnAug = df[\"text\"]\n",
    "yTrnAug = df['category']\n",
    "\n",
    "\n",
    "# models and inputs\n",
    "modelList = ['xgboost', 'knn']\n",
    "dataFormats = ['tfidf', 'ngrams']\n",
    "trainedModelsAug = [] # to store the models we train to use later\n",
    "\n",
    "# fit model, train on training data, test on the testing set, append scores to dictionaries\n",
    "for model in modelList:\n",
    "    for dataFormat in dataFormats:\n",
    "\n",
    "        # vectorize\n",
    "        xtrainVectorized = vectorizeStep(xTrnAug, outputFormat=dataFormat)\n",
    "        xtestVectorized = vectorizeStep(xTst, outputFormat=dataFormat)\n",
    "\n",
    "        # train\n",
    "        trainedModel = trainStep(model, xtrainVectorized, yTrnAug)\n",
    "\n",
    "        # predict\n",
    "        ypreds = predictStep(trainedModel, xtestVectorized)\n",
    "\n",
    "        # evaluate\n",
    "        metrics = evaluateStep(yTst, ypreds)\n",
    "\n",
    "        # append trained models to a list and metrics to a dictionary\n",
    "        trainedModelsAug.append(trainedModel) \n",
    "        f1ScoreMetricsAug[model].append(metrics[2])\n",
    "        accuracyScoreMetricsAug[model].append(metrics[3])"
   ]
  },
  {
   "cell_type": "code",
   "execution_count": 29,
   "metadata": {},
   "outputs": [
    {
     "data": {
      "text/html": [
       "<style type=\"text/css\">\n",
       "#T_e8c0c_row0_col0 {\n",
       "  background-color: yellow;\n",
       "}\n",
       "#T_e8c0c_row0_col1, #T_e8c0c_row1_col0, #T_e8c0c_row1_col1 {\n",
       "  background-color: ;\n",
       "}\n",
       "</style>\n",
       "<table id=\"T_e8c0c_\">\n",
       "  <thead>\n",
       "    <tr>\n",
       "      <th class=\"blank level0\" >&nbsp;</th>\n",
       "      <th class=\"col_heading level0 col0\" >xgboost</th>\n",
       "      <th class=\"col_heading level0 col1\" >knn</th>\n",
       "    </tr>\n",
       "  </thead>\n",
       "  <tbody>\n",
       "    <tr>\n",
       "      <th id=\"T_e8c0c_level0_row0\" class=\"row_heading level0 row0\" >tfidf</th>\n",
       "      <td id=\"T_e8c0c_row0_col0\" class=\"data row0 col0\" >0.738900</td>\n",
       "      <td id=\"T_e8c0c_row0_col1\" class=\"data row0 col1\" >0.636100</td>\n",
       "    </tr>\n",
       "    <tr>\n",
       "      <th id=\"T_e8c0c_level0_row1\" class=\"row_heading level0 row1\" >ngrams</th>\n",
       "      <td id=\"T_e8c0c_row1_col0\" class=\"data row1 col0\" >0.479400</td>\n",
       "      <td id=\"T_e8c0c_row1_col1\" class=\"data row1 col1\" >0.573700</td>\n",
       "    </tr>\n",
       "  </tbody>\n",
       "</table>\n"
      ],
      "text/plain": [
       "<pandas.io.formats.style.Styler at 0x1ee99865280>"
      ]
     },
     "execution_count": 29,
     "metadata": {},
     "output_type": "execute_result"
    }
   ],
   "source": [
    "# display f1 scores in a formatted dataframe\n",
    "f1_df = pd.DataFrame.from_dict(f1ScoreMetrics)\n",
    "f1_df.set_index([pd.Index(dataFormats)], inplace=True)\n",
    "\n",
    "maxVal = f1_df.max().max()\n",
    "f1_df.style.applymap(highlight_cells)"
   ]
  },
  {
   "cell_type": "code",
   "execution_count": 30,
   "metadata": {},
   "outputs": [
    {
     "data": {
      "text/html": [
       "<style type=\"text/css\">\n",
       "#T_0f677_row0_col0 {\n",
       "  background-color: yellow;\n",
       "}\n",
       "#T_0f677_row0_col1, #T_0f677_row1_col0, #T_0f677_row1_col1 {\n",
       "  background-color: ;\n",
       "}\n",
       "</style>\n",
       "<table id=\"T_0f677_\">\n",
       "  <thead>\n",
       "    <tr>\n",
       "      <th class=\"blank level0\" >&nbsp;</th>\n",
       "      <th class=\"col_heading level0 col0\" >xgboost</th>\n",
       "      <th class=\"col_heading level0 col1\" >knn</th>\n",
       "    </tr>\n",
       "  </thead>\n",
       "  <tbody>\n",
       "    <tr>\n",
       "      <th id=\"T_0f677_level0_row0\" class=\"row_heading level0 row0\" >tfidf</th>\n",
       "      <td id=\"T_0f677_row0_col0\" class=\"data row0 col0\" >0.848500</td>\n",
       "      <td id=\"T_0f677_row0_col1\" class=\"data row0 col1\" >0.760500</td>\n",
       "    </tr>\n",
       "    <tr>\n",
       "      <th id=\"T_0f677_level0_row1\" class=\"row_heading level0 row1\" >ngrams</th>\n",
       "      <td id=\"T_0f677_row1_col0\" class=\"data row1 col0\" >0.717500</td>\n",
       "      <td id=\"T_0f677_row1_col1\" class=\"data row1 col1\" >0.733000</td>\n",
       "    </tr>\n",
       "  </tbody>\n",
       "</table>\n"
      ],
      "text/plain": [
       "<pandas.io.formats.style.Styler at 0x1ee9b46a2b0>"
      ]
     },
     "execution_count": 30,
     "metadata": {},
     "output_type": "execute_result"
    }
   ],
   "source": [
    "# display recall scores in a formatted dataframe\n",
    "accuracy_df = pd.DataFrame.from_dict(accuracyScoreMetrics)\n",
    "accuracy_df.set_index([pd.Index(dataFormats)], inplace=True)\n",
    "\n",
    "maxVal = accuracy_df.max().max()\n",
    "accuracy_df.style.applymap(highlight_cells)"
   ]
  }
 ],
 "metadata": {
  "kernelspec": {
   "display_name": "Python 3.8.12 ('base')",
   "language": "python",
   "name": "python3"
  },
  "language_info": {
   "codemirror_mode": {
    "name": "ipython",
    "version": 3
   },
   "file_extension": ".py",
   "mimetype": "text/x-python",
   "name": "python",
   "nbconvert_exporter": "python",
   "pygments_lexer": "ipython3",
   "version": "3.8.12"
  },
  "orig_nbformat": 4,
  "vscode": {
   "interpreter": {
    "hash": "a34fec39bca19239869142c7bb5030492fb37ddeaee88d8e8fdb42aa6668f7ec"
   }
  }
 },
 "nbformat": 4,
 "nbformat_minor": 2
}
