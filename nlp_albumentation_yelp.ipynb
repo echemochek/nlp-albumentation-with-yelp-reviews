{
 "cells": [
  {
   "cell_type": "markdown",
   "metadata": {},
   "source": [
    "# NLP Albumentation with YELP Reviews"
   ]
  },
  {
   "cell_type": "markdown",
   "metadata": {},
   "source": [
    "## Import Libraries"
   ]
  },
  {
   "cell_type": "code",
   "execution_count": 1,
   "metadata": {},
   "outputs": [
    {
     "name": "stderr",
     "output_type": "stream",
     "text": [
      "c:\\Users\\echemochek\\anaconda3\\lib\\site-packages\\gensim\\similarities\\__init__.py:15: UserWarning: The gensim.similarities.levenshtein submodule is disabled, because the optional Levenshtein package <https://pypi.org/project/python-Levenshtein/> is unavailable. Install Levenhstein (e.g. `pip install python-Levenshtein`) to suppress this warning.\n",
      "  warnings.warn(msg)\n"
     ]
    }
   ],
   "source": [
    "import pandas as pd\n",
    "import numpy as np\n",
    "import spacy\n",
    "import seaborn as sns\n",
    "import matplotlib.pyplot as plt\n",
    "import gensim\n",
    "import nltk\n",
    "from nltk.corpus import stopwords\n",
    "from nltk.stem import PorterStemmer\n",
    "from nltk.stem.wordnet import WordNetLemmatizer\n",
    "from nltk.tokenize import word_tokenize\n",
    "from sklearn.feature_extraction.text import CountVectorizer\n",
    "from nltk.cluster import KMeansClusterer"
   ]
  },
  {
   "cell_type": "markdown",
   "metadata": {},
   "source": [
    "### Load Data"
   ]
  },
  {
   "cell_type": "code",
   "execution_count": 14,
   "metadata": {},
   "outputs": [
    {
     "data": {
      "text/html": [
       "<div>\n",
       "<style scoped>\n",
       "    .dataframe tbody tr th:only-of-type {\n",
       "        vertical-align: middle;\n",
       "    }\n",
       "\n",
       "    .dataframe tbody tr th {\n",
       "        vertical-align: top;\n",
       "    }\n",
       "\n",
       "    .dataframe thead th {\n",
       "        text-align: right;\n",
       "    }\n",
       "</style>\n",
       "<table border=\"1\" class=\"dataframe\">\n",
       "  <thead>\n",
       "    <tr style=\"text-align: right;\">\n",
       "      <th></th>\n",
       "      <th>business_id</th>\n",
       "      <th>date</th>\n",
       "      <th>review_id</th>\n",
       "      <th>stars</th>\n",
       "      <th>text</th>\n",
       "      <th>type</th>\n",
       "      <th>user_id</th>\n",
       "      <th>cool</th>\n",
       "      <th>useful</th>\n",
       "      <th>funny</th>\n",
       "    </tr>\n",
       "  </thead>\n",
       "  <tbody>\n",
       "    <tr>\n",
       "      <th>0</th>\n",
       "      <td>9yKzy9PApeiPPOUJEtnvkg</td>\n",
       "      <td>2011-01-26</td>\n",
       "      <td>fWKvX83p0-ka4JS3dc6E5A</td>\n",
       "      <td>5</td>\n",
       "      <td>My wife took me here on my birthday for breakf...</td>\n",
       "      <td>review</td>\n",
       "      <td>rLtl8ZkDX5vH5nAx9C3q5Q</td>\n",
       "      <td>2</td>\n",
       "      <td>5</td>\n",
       "      <td>0</td>\n",
       "    </tr>\n",
       "    <tr>\n",
       "      <th>1</th>\n",
       "      <td>ZRJwVLyzEJq1VAihDhYiow</td>\n",
       "      <td>2011-07-27</td>\n",
       "      <td>IjZ33sJrzXqU-0X6U8NwyA</td>\n",
       "      <td>5</td>\n",
       "      <td>I have no idea why some people give bad review...</td>\n",
       "      <td>review</td>\n",
       "      <td>0a2KyEL0d3Yb1V6aivbIuQ</td>\n",
       "      <td>0</td>\n",
       "      <td>0</td>\n",
       "      <td>0</td>\n",
       "    </tr>\n",
       "  </tbody>\n",
       "</table>\n",
       "</div>"
      ],
      "text/plain": [
       "              business_id        date               review_id  stars  \\\n",
       "0  9yKzy9PApeiPPOUJEtnvkg  2011-01-26  fWKvX83p0-ka4JS3dc6E5A      5   \n",
       "1  ZRJwVLyzEJq1VAihDhYiow  2011-07-27  IjZ33sJrzXqU-0X6U8NwyA      5   \n",
       "\n",
       "                                                text    type  \\\n",
       "0  My wife took me here on my birthday for breakf...  review   \n",
       "1  I have no idea why some people give bad review...  review   \n",
       "\n",
       "                  user_id  cool  useful  funny  \n",
       "0  rLtl8ZkDX5vH5nAx9C3q5Q     2       5      0  \n",
       "1  0a2KyEL0d3Yb1V6aivbIuQ     0       0      0  "
      ]
     },
     "execution_count": 14,
     "metadata": {},
     "output_type": "execute_result"
    }
   ],
   "source": [
    "data = pd.read_csv(\"data/yelp.csv\")\n",
    "dataAug = pd.read_csv(\"data/yelp_augmented.csv\")\n",
    "dataSentiment = pd.read_csv(\"data/yelpSentiment.csv\")\n",
    "data.head(2)"
   ]
  },
  {
   "cell_type": "code",
   "execution_count": 15,
   "metadata": {},
   "outputs": [],
   "source": [
    "dataSentiment = dataSentiment[[\"text\", \"polarity\"]]\n",
    "dataAug = dataAug[[\"augmented\"]]"
   ]
  },
  {
   "cell_type": "code",
   "execution_count": 16,
   "metadata": {},
   "outputs": [],
   "source": [
    "data[\"text\"] = data[\"text\"].str.lower()"
   ]
  },
  {
   "cell_type": "code",
   "execution_count": 17,
   "metadata": {},
   "outputs": [
    {
     "data": {
      "text/html": [
       "<div>\n",
       "<style scoped>\n",
       "    .dataframe tbody tr th:only-of-type {\n",
       "        vertical-align: middle;\n",
       "    }\n",
       "\n",
       "    .dataframe tbody tr th {\n",
       "        vertical-align: top;\n",
       "    }\n",
       "\n",
       "    .dataframe thead th {\n",
       "        text-align: right;\n",
       "    }\n",
       "</style>\n",
       "<table border=\"1\" class=\"dataframe\">\n",
       "  <thead>\n",
       "    <tr style=\"text-align: right;\">\n",
       "      <th></th>\n",
       "      <th>business_id</th>\n",
       "      <th>date</th>\n",
       "      <th>review_id</th>\n",
       "      <th>stars</th>\n",
       "      <th>text</th>\n",
       "      <th>type</th>\n",
       "      <th>user_id</th>\n",
       "      <th>cool</th>\n",
       "      <th>useful</th>\n",
       "      <th>funny</th>\n",
       "    </tr>\n",
       "  </thead>\n",
       "  <tbody>\n",
       "    <tr>\n",
       "      <th>0</th>\n",
       "      <td>9yKzy9PApeiPPOUJEtnvkg</td>\n",
       "      <td>2011-01-26</td>\n",
       "      <td>fWKvX83p0-ka4JS3dc6E5A</td>\n",
       "      <td>5</td>\n",
       "      <td>my wife took me here on my birthday for breakf...</td>\n",
       "      <td>review</td>\n",
       "      <td>rLtl8ZkDX5vH5nAx9C3q5Q</td>\n",
       "      <td>2</td>\n",
       "      <td>5</td>\n",
       "      <td>0</td>\n",
       "    </tr>\n",
       "    <tr>\n",
       "      <th>1</th>\n",
       "      <td>ZRJwVLyzEJq1VAihDhYiow</td>\n",
       "      <td>2011-07-27</td>\n",
       "      <td>IjZ33sJrzXqU-0X6U8NwyA</td>\n",
       "      <td>5</td>\n",
       "      <td>i have no idea why some people give bad review...</td>\n",
       "      <td>review</td>\n",
       "      <td>0a2KyEL0d3Yb1V6aivbIuQ</td>\n",
       "      <td>0</td>\n",
       "      <td>0</td>\n",
       "      <td>0</td>\n",
       "    </tr>\n",
       "    <tr>\n",
       "      <th>2</th>\n",
       "      <td>6oRAC4uyJCsJl1X0WZpVSA</td>\n",
       "      <td>2012-06-14</td>\n",
       "      <td>IESLBzqUCLdSzSqm0eCSxQ</td>\n",
       "      <td>4</td>\n",
       "      <td>love the gyro plate. rice is so good and i als...</td>\n",
       "      <td>review</td>\n",
       "      <td>0hT2KtfLiobPvh6cDC8JQg</td>\n",
       "      <td>0</td>\n",
       "      <td>1</td>\n",
       "      <td>0</td>\n",
       "    </tr>\n",
       "    <tr>\n",
       "      <th>3</th>\n",
       "      <td>_1QQZuf4zZOyFCvXc0o6Vg</td>\n",
       "      <td>2010-05-27</td>\n",
       "      <td>G-WvGaISbqqaMHlNnByodA</td>\n",
       "      <td>5</td>\n",
       "      <td>rosie, dakota, and i love chaparral dog park!!...</td>\n",
       "      <td>review</td>\n",
       "      <td>uZetl9T0NcROGOyFfughhg</td>\n",
       "      <td>1</td>\n",
       "      <td>2</td>\n",
       "      <td>0</td>\n",
       "    </tr>\n",
       "    <tr>\n",
       "      <th>4</th>\n",
       "      <td>6ozycU1RpktNG2-1BroVtw</td>\n",
       "      <td>2012-01-05</td>\n",
       "      <td>1uJFq2r5QfJG_6ExMRCaGw</td>\n",
       "      <td>5</td>\n",
       "      <td>general manager scott petello is a good egg!!!...</td>\n",
       "      <td>review</td>\n",
       "      <td>vYmM4KTsC8ZfQBg-j5MWkw</td>\n",
       "      <td>0</td>\n",
       "      <td>0</td>\n",
       "      <td>0</td>\n",
       "    </tr>\n",
       "  </tbody>\n",
       "</table>\n",
       "</div>"
      ],
      "text/plain": [
       "              business_id        date               review_id  stars  \\\n",
       "0  9yKzy9PApeiPPOUJEtnvkg  2011-01-26  fWKvX83p0-ka4JS3dc6E5A      5   \n",
       "1  ZRJwVLyzEJq1VAihDhYiow  2011-07-27  IjZ33sJrzXqU-0X6U8NwyA      5   \n",
       "2  6oRAC4uyJCsJl1X0WZpVSA  2012-06-14  IESLBzqUCLdSzSqm0eCSxQ      4   \n",
       "3  _1QQZuf4zZOyFCvXc0o6Vg  2010-05-27  G-WvGaISbqqaMHlNnByodA      5   \n",
       "4  6ozycU1RpktNG2-1BroVtw  2012-01-05  1uJFq2r5QfJG_6ExMRCaGw      5   \n",
       "\n",
       "                                                text    type  \\\n",
       "0  my wife took me here on my birthday for breakf...  review   \n",
       "1  i have no idea why some people give bad review...  review   \n",
       "2  love the gyro plate. rice is so good and i als...  review   \n",
       "3  rosie, dakota, and i love chaparral dog park!!...  review   \n",
       "4  general manager scott petello is a good egg!!!...  review   \n",
       "\n",
       "                  user_id  cool  useful  funny  \n",
       "0  rLtl8ZkDX5vH5nAx9C3q5Q     2       5      0  \n",
       "1  0a2KyEL0d3Yb1V6aivbIuQ     0       0      0  \n",
       "2  0hT2KtfLiobPvh6cDC8JQg     0       1      0  \n",
       "3  uZetl9T0NcROGOyFfughhg     1       2      0  \n",
       "4  vYmM4KTsC8ZfQBg-j5MWkw     0       0      0  "
      ]
     },
     "execution_count": 17,
     "metadata": {},
     "output_type": "execute_result"
    }
   ],
   "source": [
    "data.head()"
   ]
  },
  {
   "cell_type": "markdown",
   "metadata": {},
   "source": [
    "## Exploration"
   ]
  },
  {
   "cell_type": "code",
   "execution_count": 18,
   "metadata": {},
   "outputs": [
    {
     "data": {
      "text/plain": [
       "<AxesSubplot:>"
      ]
     },
     "execution_count": 18,
     "metadata": {},
     "output_type": "execute_result"
    },
    {
     "data": {
      "image/png": "[encoded data removed]",
      "text/plain": [
       "<Figure size 432x288 with 1 Axes>"
      ]
     },
     "metadata": {
      "needs_background": "light"
     },
     "output_type": "display_data"
    }
   ],
   "source": [
    "# length of each review\n",
    "data['text'].str.len().hist()"
   ]
  },
  {
   "cell_type": "code",
   "execution_count": 19,
   "metadata": {},
   "outputs": [
    {
     "data": {
      "text/plain": [
       "<AxesSubplot:>"
      ]
     },
     "execution_count": 19,
     "metadata": {},
     "output_type": "execute_result"
    },
    {
     "data": {
      "image/png": "[encoded data removed]",
      "text/plain": [
       "<Figure size 432x288 with 1 Axes>"
      ]
     },
     "metadata": {
      "needs_background": "light"
     },
     "output_type": "display_data"
    }
   ],
   "source": [
    "# number of words in each review\n",
    "data['text'].str.split().map(lambda x: len(x)).hist()"
   ]
  },
  {
   "cell_type": "code",
   "execution_count": 20,
   "metadata": {},
   "outputs": [
    {
     "data": {
      "text/plain": [
       "<AxesSubplot:>"
      ]
     },
     "execution_count": 20,
     "metadata": {},
     "output_type": "execute_result"
    },
    {
     "data": {
      "image/png": "[encoded data removed]",
      "text/plain": [
       "<Figure size 432x288 with 1 Axes>"
      ]
     },
     "metadata": {
      "needs_background": "light"
     },
     "output_type": "display_data"
    }
   ],
   "source": [
    "# average word length in each review\n",
    "data['text'].str.split().apply(lambda x : [len(i) for i in x]). map(lambda x: np.mean(x)).hist()"
   ]
  },
  {
   "cell_type": "code",
   "execution_count": 21,
   "metadata": {},
   "outputs": [],
   "source": [
    "# distribution of stopwords\n",
    "stop = set(stopwords.words('english'))\n",
    "\n",
    "corpus=[]\n",
    "txt = data['text'].str.split()\n",
    "txt = txt.values.tolist()\n",
    "corpus=[word for i in txt for word in i]\n",
    "\n",
    "from collections import defaultdict\n",
    "dic = defaultdict(int)\n",
    "for word in corpus:\n",
    "    if word in stop:\n",
    "        dic[word]+=1"
   ]
  },
  {
   "cell_type": "code",
   "execution_count": 22,
   "metadata": {},
   "outputs": [
    {
     "data": {
      "image/png": "[encoded data removed]",
      "text/plain": [
       "<Figure size 720x432 with 1 Axes>"
      ]
     },
     "metadata": {
      "needs_background": "light"
     },
     "output_type": "display_data"
    }
   ],
   "source": [
    "dic = dict(sorted(dic.items(), key=lambda item: item[1], reverse = True))\n",
    "dic_subset = {key:value for key, value in dic.items() if value > 4000}\n",
    "\n",
    "names = list(dic_subset.keys())\n",
    "values = list(dic_subset.values())\n",
    "\n",
    "plt.figure(figsize=(10,6)) \n",
    "plt.bar(range(len(dic_subset)), values, tick_label = names)\n",
    "plt.title(\"Most frequent stopwords\")\n",
    "plt.xticks(rotation = 90)\n",
    "plt.show()"
   ]
  },
  {
   "cell_type": "code",
   "execution_count": 23,
   "metadata": {},
   "outputs": [
    {
     "data": {
      "text/plain": [
       "<AxesSubplot:>"
      ]
     },
     "execution_count": 23,
     "metadata": {},
     "output_type": "execute_result"
    },
    {
     "data": {
      "image/png": "[encoded data removed]",
      "text/plain": [
       "<Figure size 432x288 with 1 Axes>"
      ]
     },
     "metadata": {
      "needs_background": "light"
     },
     "output_type": "display_data"
    }
   ],
   "source": [
    "# most frequent non-stopwords\n",
    "\n",
    "import collections\n",
    "from collections import Counter\n",
    "\n",
    "counter = Counter(corpus)\n",
    "most = counter.most_common()\n",
    "\n",
    "x, y= [], []\n",
    "for word,count in most[:40]:\n",
    "    if (word not in stop):\n",
    "        x.append(word)\n",
    "        y.append(count)\n",
    "        \n",
    "sns.barplot(x=y,y=x)"
   ]
  },
  {
   "cell_type": "code",
   "execution_count": 24,
   "metadata": {},
   "outputs": [],
   "source": [
    "# most frequent n-grams\n",
    "\n",
    "def get_top_ngram(corpus, n=None):\n",
    "    vec = CountVectorizer(ngram_range=(n, n)).fit(corpus)\n",
    "    bag_of_words = vec.transform(corpus)\n",
    "    sum_words = bag_of_words.sum(axis=0) \n",
    "    words_freq = [(word, sum_words[0, idx]) \n",
    "                  for word, idx in vec.vocabulary_.items()]\n",
    "    words_freq =sorted(words_freq, key = lambda x: x[1], reverse=True)\n",
    "    return words_freq[:10]"
   ]
  },
  {
   "cell_type": "code",
   "execution_count": 25,
   "metadata": {},
   "outputs": [
    {
     "data": {
      "text/plain": [
       "<AxesSubplot:>"
      ]
     },
     "execution_count": 25,
     "metadata": {},
     "output_type": "execute_result"
    },
    {
     "data": {
      "image/png": "[encoded data removed]",
      "text/plain": [
       "<Figure size 432x288 with 1 Axes>"
      ]
     },
     "metadata": {
      "needs_background": "light"
     },
     "output_type": "display_data"
    }
   ],
   "source": [
    "# bigrams\n",
    "top_tri_grams = get_top_ngram(data['text'], n=2)\n",
    "x,y = map(list,zip(*top_tri_grams))\n",
    "sns.barplot(x=y, y=x)"
   ]
  },
  {
   "cell_type": "code",
   "execution_count": 26,
   "metadata": {},
   "outputs": [
    {
     "data": {
      "text/plain": [
       "<AxesSubplot:>"
      ]
     },
     "execution_count": 26,
     "metadata": {},
     "output_type": "execute_result"
    },
    {
     "data": {
      "image/png": "[encoded data removed]",
      "text/plain": [
       "<Figure size 432x288 with 1 Axes>"
      ]
     },
     "metadata": {
      "needs_background": "light"
     },
     "output_type": "display_data"
    }
   ],
   "source": [
    "# trigrams\n",
    "top_tri_grams = get_top_ngram(data['text'], n=3)\n",
    "x,y = map(list,zip(*top_tri_grams))\n",
    "sns.barplot(x=y, y=x)"
   ]
  },
  {
   "cell_type": "markdown",
   "metadata": {},
   "source": [
    "## Topic Modelling with pyLDAvis"
   ]
  },
  {
   "cell_type": "code",
   "execution_count": 27,
   "metadata": {},
   "outputs": [],
   "source": [
    "def preprocess_text(df):\n",
    "    corpus=[]\n",
    "    stem = PorterStemmer()\n",
    "    lem = WordNetLemmatizer()\n",
    "    for txt in data['text']:\n",
    "        words=[w for w in word_tokenize(txt) if (w not in stop)]\n",
    "        \n",
    "        words=[lem.lemmatize(w) for w in words if len(w)>2]\n",
    "        \n",
    "        corpus.append(words)\n",
    "    return corpus\n",
    "\n",
    "corpus = preprocess_text(txt)"
   ]
  },
  {
   "cell_type": "code",
   "execution_count": 28,
   "metadata": {},
   "outputs": [],
   "source": [
    "# BOW model\n",
    "dic_bow = gensim.corpora.Dictionary(corpus)\n",
    "bow_corpus = [dic_bow.doc2bow(doc) for doc in corpus]"
   ]
  },
  {
   "cell_type": "code",
   "execution_count": 29,
   "metadata": {},
   "outputs": [
    {
     "data": {
      "text/plain": [
       "[(0,\n",
       "  '0.016*\"food\" + 0.015*\"good\" + 0.014*\"n\\'t\" + 0.014*\"place\" + 0.010*\"great\" + 0.008*\"like\" + 0.007*\"...\" + 0.007*\"time\" + 0.006*\"service\" + 0.006*\"get\"'),\n",
       " (1,\n",
       "  '0.006*\"one\" + 0.006*\"room\" + 0.005*\"well\" + 0.005*\"restaurant\" + 0.004*\"hotel\" + 0.004*\"great\" + 0.004*\"n\\'t\" + 0.004*\"would\" + 0.004*\"good\" + 0.004*\"...\"'),\n",
       " (2,\n",
       "  '0.011*\"n\\'t\" + 0.007*\"store\" + 0.005*\"like\" + 0.005*\"dog\" + 0.005*\"place\" + 0.005*\"get\" + 0.005*\"one\" + 0.004*\"would\" + 0.004*\"time\" + 0.004*\"staff\"'),\n",
       " (3,\n",
       "  '0.014*\"n\\'t\" + 0.011*\"place\" + 0.009*\"time\" + 0.009*\"like\" + 0.008*\"one\" + 0.008*\"...\" + 0.008*\"get\" + 0.006*\"good\" + 0.006*\"would\" + 0.006*\"great\"')]"
      ]
     },
     "execution_count": 29,
     "metadata": {},
     "output_type": "execute_result"
    }
   ],
   "source": [
    "# LDA model\n",
    "lda_model = gensim.models.LdaMulticore(bow_corpus, \n",
    "                                   num_topics = 4, \n",
    "                                   id2word = dic_bow,                                    \n",
    "                                   passes = 10,\n",
    "                                   workers = 2)\n",
    "lda_model.show_topics()\n"
   ]
  },
  {
   "cell_type": "code",
   "execution_count": 31,
   "metadata": {},
   "outputs": [
    {
     "name": "stderr",
     "output_type": "stream",
     "text": [
      "c:\\Users\\echemochek\\anaconda3\\lib\\site-packages\\pyLDAvis\\_prepare.py:246: FutureWarning: In a future version of pandas all arguments of DataFrame.drop except for the argument 'labels' will be keyword-only\n",
      "  default_term_info = default_term_info.sort_values(\n"
     ]
    },
    {
     "data": {
      "text/html": [
       "\n",
       "<link rel=\"stylesheet\" type=\"text/css\" href=\"https://cdn.jsdelivr.net/gh/bmabey/pyLDAvis@3.3.1/pyLDAvis/js/ldavis.v1.0.0.css\">\n",
       "\n",
       "\n",
       "<div id=\"ldavis_el1044020740620978722709555091\"></div>\n",
       "<script type=\"text/javascript\">\n",
       "\n",
       "var ldavis_el1044020740620978722709555091_data = {\"mdsDat\": {\"x\": [0.00350838000255657, -0.00350838000255657], \"y\": [0.0, 0.0], \"topics\": [1, 2], \"cluster\": [1, 1], \"Freq\": [50.28591786473151, 49.714082135268484]}, \"tinfo\": {\"Term\": [\"...\", \"thing\", \"lot\", \"love\", \"great\", \"get\", \"like\", \"could\", \"chicken\", \"pizza\", \"store\", \"made\", \"side\", \"even\", \"best\", \"ever\", \"friendly\", \"tried\", \"egg\", \"would\", \"spot\", \"order\", \"definitely\", \"place\", \"nice\", \"food\", \"another\", \"eating\", \"half\", \"first\", \"kerrie\", \"margaret\", \"joann\", \"physician\", \"misinformation\", \"zia\", \"evanger\", \"breakfast/lunch\", \"innova\", \"mover\", \"data\", \"below-average\", \"bulkogi\", \"xao\", \"merchandising\", \"extremly\", \"garmin\", \"anthro\", \"earl\", \"nuvi\", \"lube\", \"dillards\", \"tootsy\", \"foxy\", \"gator\", \"triathlon\", \"'panini\", \"canidae\", \"ny'er\", \"minisd\", \"roadhouse\", \"padi\", \"nibble\", \"blasting\", \"winco\", \"thing\", \"...\", \"egg\", \"please\", \"store\", \"spot\", \"pizza\", \"could\", \"eating\", \"half\", \"great\", \"macy\", \"like\", \"lol\", \"friendly\", \"definitely\", \"loved\", \"would\", \"dish\", \"sale\", \"comfortable\", \"good\", \"better\", \"find\", \"back\", \"day\", \"....\", \"staff\", \"wait\", \"said\", \"usually\", \"right\", \"eat\", \"n't\", \"price\", \"little\", \"got\", \"place\", \"food\", \"one\", \"time\", \"really\", \"service\", \"also\", \"come\", \"get\", \"'ve\", \"always\", \"drink\", \"make\", \"well\", \"restaurant\", \"nice\", \"pretty\", \"love\", \"menu\", \"bgf\", \"covet\", \"sebastian\", \"ringo\", \"blowdry\", \"misir\", \"neds\", \"fargo\", \"gooood\", \"tara\", \"homme\", \"cookiez\", \"shuro\", \"grady\", \"watt\", \"flo\", \"burrio\", \"anazazi\", \"recital\", \"20-something\", \"camelview\", \"ito\", \"lucilles\", \"leinenkugel\", \"flaverful\", \"cornicopia\", \"antiquated\", \"totaling\", \"laveen\", \"circle-k.\", \"soi\", \"robin\", \"1-10\", \"quesadilla\", \"bleu\", \"flavour\", \"lot\", \"searching\", \"tiffany\", \"bookman\", \"hubster\", \"love\", \"chicken\", \"tried\", \"made\", \"suggestion\", \"side\", \"ever\", \"get\", \"best\", \"even\", \"another\", \"order\", \"corn\", \"place\", \"excellent\", \"attentive\", \"food\", \"n't\", \"nice\", \"perfect\", \"first\", \"time\", \"white\", \"restaurant\", \"cheese\", \"one\", \"'re\", \"chip\", \"small\", \"service\", \"really\", \"review\", \"bar\", \"'ve\", \"good\", \"think\", \"location\", \"well\", \"also\", \"like\", \"great\", \"make\", \"would\", \"back\", \"...\", \"try\", \"always\", \"little\"], \"Freq\": [4241.0, 1730.0, 1302.0, 2259.0, 4862.0, 3943.0, 4820.0, 1840.0, 1663.0, 1437.0, 929.0, 1219.0, 1073.0, 1926.0, 1861.0, 1030.0, 1417.0, 731.0, 475.0, 3266.0, 605.0, 1657.0, 1091.0, 7058.0, 2116.0, 6010.0, 923.0, 475.0, 491.0, 1556.0, 3.148585094573484, 3.073648745749477, 2.2698687381535017, 8.174983161405363, 2.9588662046603993, 9.57093660962091, 2.210417385166892, 3.6782978268309714, 5.137805415268856, 4.402423227393358, 2.9233145582035625, 2.1632873893462783, 2.1593121389389167, 2.1597532289886785, 2.1480650226649236, 3.5763656789696294, 2.857557234382208, 2.141076034692487, 5.694512737683789, 2.1346364826299284, 3.548850363799686, 5.672780099466327, 2.1232979448142753, 3.5363940654159998, 2.1207286217186594, 3.5306851301367916, 2.8246463860444675, 3.5231888659406305, 2.1113708336023143, 2.1114704150832297, 16.611298350730976, 2.8076008773794268, 10.332939541547958, 5.564184605652843, 5.552145370831109, 1114.0608443216372, 2601.488169025532, 311.2482936303667, 150.98758954406864, 587.8354670101793, 385.1564828548863, 883.2193300455228, 1119.8330620453125, 304.36870324355044, 312.2512577551923, 2785.4684698357137, 14.167403796952803, 2746.9508099740883, 61.912493420894904, 840.941570174909, 655.8381909340591, 305.63468094822287, 1837.1133760706955, 631.6685620758692, 114.60536281692076, 154.80312394928035, 3464.7795879699183, 842.7265345227975, 603.5163219406691, 1508.8715000020713, 805.9713248299946, 500.40219418491193, 805.2866152604565, 623.9661209967567, 570.0367705653675, 349.2231567504679, 736.8818855825293, 623.7360276340667, 4093.596431399053, 886.6715041690017, 1128.274409197179, 982.6968763039034, 3307.687870639653, 2802.627833226528, 1966.037147498234, 2042.5086069567617, 1549.3177971687185, 1465.0542654405347, 1185.6953142233347, 835.4993283059321, 1700.296025146921, 1175.1579047372393, 971.7590857983324, 842.1024043422931, 945.2660091341768, 967.9056022356226, 939.7457026374411, 928.812167389082, 865.7322344810856, 898.363248884194, 847.5700230179151, 4.843694017148654, 3.1957865315755956, 3.184949962917458, 5.307853452860922, 5.2512459837283085, 3.7352955103344985, 2.981096146598448, 2.2361199221247987, 2.2136529177891773, 2.949473528008468, 2.2120684703659204, 3.684823853437224, 2.941209184103643, 2.9105211594303046, 4.364569426224494, 8.619180053730933, 1.435992647331409, 2.1513824608691414, 2.143307396135094, 2.1389884846692864, 3.563351443281265, 4.266088982524214, 2.132029674050511, 1.423245957538653, 1.422599390647473, 1.4222678906632935, 2.129119525473758, 2.127024905699905, 2.124918334597195, 1.417538600442848, 3.537643836125986, 11.856318183152796, 3.526614552290024, 54.87134261429721, 17.051002710364592, 10.303411511883214, 842.4459203898097, 24.615824580975435, 6.2333010175274906, 6.902026867541885, 6.8986936419235825, 1360.869095547535, 995.6377859729478, 449.6432202175704, 732.0423362364695, 63.11233362253478, 646.742585275335, 618.9191650547401, 2242.7521829998072, 1072.3721247137473, 1107.1115972838647, 548.414356089647, 949.9084450494402, 140.83468871996766, 3751.2697927303184, 412.96958282943956, 172.69238038750748, 3207.714330656644, 4390.695028716292, 1187.466289928497, 369.4657514382972, 879.1770771334649, 2306.435747116937, 225.41825868959407, 1147.5923735042732, 760.2974958217687, 2134.7550036924163, 722.2933408946121, 315.1818022957418, 514.8031272079114, 1594.041395521873, 1659.880711655094, 583.1010515915304, 878.8617150286415, 1299.1619943915102, 3042.0316627926477, 819.6677966711089, 604.1402474004306, 1055.3202364099145, 1213.884654562249, 2073.8302269623277, 2076.788496369592, 986.5943970868256, 1429.625683249508, 1232.061612281519, 1640.224083812659, 875.9703730629782, 955.1259554196365, 989.3827855251805], \"Total\": [4241.0, 1730.0, 1302.0, 2259.0, 4862.0, 3943.0, 4820.0, 1840.0, 1663.0, 1437.0, 929.0, 1219.0, 1073.0, 1926.0, 1861.0, 1030.0, 1417.0, 731.0, 475.0, 3266.0, 605.0, 1657.0, 1091.0, 7058.0, 2116.0, 6010.0, 923.0, 475.0, 491.0, 1556.0, 3.794499293806334, 3.796590678687944, 2.8489037492757188, 10.436653530710966, 3.800639378773167, 12.337775905696509, 2.852320046172983, 4.751338327220798, 6.6454298460226155, 5.699199774789204, 3.800124770865036, 2.8513782762913813, 2.8517154388147614, 2.85235193309134, 2.852041167752321, 4.751991381651582, 3.8001120805667297, 2.851451742903943, 7.5959724454960655, 2.8540243144536497, 4.751476284548641, 7.60060996622741, 2.8518916611693608, 4.7533621036643545, 2.852812275491688, 4.751258286734952, 3.802663588693404, 4.75284361325004, 2.8535408113644634, 2.8539699507386187, 22.79104665878178, 3.802148485841536, 14.254856844688565, 7.603342295852585, 7.603589027096158, 1730.6476071587122, 4241.7122528381915, 475.9379877265196, 228.29401449460968, 929.5256035433108, 605.1579212531965, 1437.1681266245355, 1840.6630248682582, 475.5297646451033, 491.27950606204706, 4862.256966205306, 19.953441271156816, 4820.781036936416, 93.2291508213304, 1417.7180167794072, 1091.9643626033894, 493.38678741287106, 3266.7390593202035, 1069.8152923292566, 178.76484797127466, 245.55437317751102, 6506.8112507625665, 1464.8487321997993, 1033.7902051394078, 2740.93311228359, 1407.1552150357782, 851.7680500724109, 1420.3851795060941, 1086.997162433899, 988.1528441884018, 584.0267653085125, 1307.6896282123028, 1100.8619117838525, 8484.291460115344, 1616.3397901970043, 2117.6571947223592, 1816.7468829997642, 7058.957663369971, 6010.342163883171, 4100.79215119065, 4348.944354073698, 3209.1985088238125, 3059.0956609624077, 2399.5799687855833, 1577.4096759975514, 3943.048208146728, 2474.3198991287495, 1926.885041217969, 1594.0441429350733, 1931.8604062210024, 2023.2258386455371, 2087.3380761417143, 2116.278457317579, 1729.526173017468, 2259.232344431729, 1685.8239144198635, 5.7872095089674005, 3.8590939404360425, 3.859009149517085, 6.741699694549737, 6.739459029587566, 4.8148827492052355, 3.8523261365263664, 2.89057281467799, 2.890546474400242, 3.8520161515049227, 2.8901388715496283, 4.8147870817424625, 3.8531865106994267, 3.8458406722617204, 5.77021869559555, 11.546434049275124, 1.9276457984683437, 2.8887125320219456, 2.8886196256447336, 2.886800904455849, 4.811404934718837, 5.772949907342338, 2.8865024931444854, 1.9273138895905615, 1.9268191126805347, 1.9270269620146536, 2.8873279345369567, 2.8882827142849252, 2.887665860981317, 1.926484400627278, 4.810269624641975, 16.344195316630707, 4.809401429609078, 77.84296666625386, 24.014774657181484, 14.400890556014799, 1302.5237885534277, 35.52159306714765, 8.649265459223558, 9.610362386096694, 9.610535818818501, 2259.232344431729, 1663.4973106353327, 731.034250174196, 1219.464332506607, 94.9529871892631, 1073.4199724794785, 1030.2054803445187, 3943.048208146728, 1861.9973044902626, 1926.728061994215, 923.7637089642989, 1657.2015930303724, 222.43449713082703, 7058.957663369971, 692.1745904459628, 276.8716086944219, 6010.342163883171, 8484.291460115344, 2116.278457317579, 617.5416763687799, 1556.2996004311622, 4348.944354073698, 366.86839517922726, 2087.3380761417143, 1344.3074092302104, 4100.79215119065, 1284.968632536003, 527.394361418784, 896.3101854254728, 3059.0956609624077, 3209.1985088238125, 1029.4205126646455, 1608.2500926611585, 2474.3198991287495, 6506.8112507625665, 1506.5979141589182, 1071.0359273529807, 2023.2258386455371, 2399.5799687855833, 4820.781036936416, 4862.256966205306, 1931.8604062210024, 3266.7390593202035, 2740.93311228359, 4241.7122528381915, 1669.5105442109923, 1926.885041217969, 2117.6571947223592], \"Category\": [\"Default\", \"Default\", \"Default\", \"Default\", \"Default\", \"Default\", \"Default\", \"Default\", \"Default\", \"Default\", \"Default\", \"Default\", \"Default\", \"Default\", \"Default\", \"Default\", \"Default\", \"Default\", \"Default\", \"Default\", \"Default\", \"Default\", \"Default\", \"Default\", \"Default\", \"Default\", \"Default\", \"Default\", \"Default\", \"Default\", \"Topic1\", \"Topic1\", \"Topic1\", \"Topic1\", \"Topic1\", \"Topic1\", \"Topic1\", \"Topic1\", \"Topic1\", \"Topic1\", \"Topic1\", \"Topic1\", \"Topic1\", \"Topic1\", \"Topic1\", \"Topic1\", \"Topic1\", \"Topic1\", \"Topic1\", \"Topic1\", \"Topic1\", \"Topic1\", \"Topic1\", \"Topic1\", \"Topic1\", \"Topic1\", \"Topic1\", \"Topic1\", \"Topic1\", \"Topic1\", \"Topic1\", \"Topic1\", \"Topic1\", \"Topic1\", \"Topic1\", \"Topic1\", \"Topic1\", \"Topic1\", \"Topic1\", \"Topic1\", \"Topic1\", \"Topic1\", \"Topic1\", \"Topic1\", \"Topic1\", \"Topic1\", \"Topic1\", \"Topic1\", \"Topic1\", \"Topic1\", \"Topic1\", \"Topic1\", \"Topic1\", \"Topic1\", \"Topic1\", \"Topic1\", \"Topic1\", \"Topic1\", \"Topic1\", \"Topic1\", \"Topic1\", \"Topic1\", \"Topic1\", \"Topic1\", \"Topic1\", \"Topic1\", \"Topic1\", \"Topic1\", \"Topic1\", \"Topic1\", \"Topic1\", \"Topic1\", \"Topic1\", \"Topic1\", \"Topic1\", \"Topic1\", \"Topic1\", \"Topic1\", \"Topic1\", \"Topic1\", \"Topic1\", \"Topic1\", \"Topic1\", \"Topic1\", \"Topic1\", \"Topic1\", \"Topic1\", \"Topic1\", \"Topic1\", \"Topic1\", \"Topic1\", \"Topic2\", \"Topic2\", \"Topic2\", \"Topic2\", \"Topic2\", \"Topic2\", \"Topic2\", \"Topic2\", \"Topic2\", \"Topic2\", \"Topic2\", \"Topic2\", \"Topic2\", \"Topic2\", \"Topic2\", \"Topic2\", \"Topic2\", \"Topic2\", \"Topic2\", \"Topic2\", \"Topic2\", \"Topic2\", \"Topic2\", \"Topic2\", \"Topic2\", \"Topic2\", \"Topic2\", \"Topic2\", \"Topic2\", \"Topic2\", \"Topic2\", \"Topic2\", \"Topic2\", \"Topic2\", \"Topic2\", \"Topic2\", \"Topic2\", \"Topic2\", \"Topic2\", \"Topic2\", \"Topic2\", \"Topic2\", \"Topic2\", \"Topic2\", \"Topic2\", \"Topic2\", \"Topic2\", \"Topic2\", \"Topic2\", \"Topic2\", \"Topic2\", \"Topic2\", \"Topic2\", \"Topic2\", \"Topic2\", \"Topic2\", \"Topic2\", \"Topic2\", \"Topic2\", \"Topic2\", \"Topic2\", \"Topic2\", \"Topic2\", \"Topic2\", \"Topic2\", \"Topic2\", \"Topic2\", \"Topic2\", \"Topic2\", \"Topic2\", \"Topic2\", \"Topic2\", \"Topic2\", \"Topic2\", \"Topic2\", \"Topic2\", \"Topic2\", \"Topic2\", \"Topic2\", \"Topic2\", \"Topic2\", \"Topic2\", \"Topic2\", \"Topic2\", \"Topic2\", \"Topic2\", \"Topic2\", \"Topic2\", \"Topic2\"], \"logprob\": [30.0, 29.0, 28.0, 27.0, 26.0, 25.0, 24.0, 23.0, 22.0, 21.0, 20.0, 19.0, 18.0, 17.0, 16.0, 15.0, 14.0, 13.0, 12.0, 11.0, 10.0, 9.0, 8.0, 7.0, 6.0, 5.0, 4.0, 3.0, 2.0, 1.0, -11.5668, -11.5909, -11.8941, -10.6127, -11.629, -10.455, -11.9206, -11.4113, -11.0772, -11.2316, -11.6411, -11.9421, -11.944, -11.9438, -11.9492, -11.4394, -11.6638, -11.9525, -10.9743, -11.9555, -11.4472, -10.9781, -11.9608, -11.4507, -11.962, -11.4523, -11.6754, -11.4544, -11.9664, -11.9664, -9.9037, -11.6814, -10.3784, -10.9974, -10.9996, -5.698, -4.8499, -6.9732, -7.6966, -6.3373, -6.7601, -5.9302, -5.6928, -6.9955, -6.97, -4.7816, -10.0628, -4.7955, -8.5881, -5.9793, -6.2279, -6.9914, -5.1978, -6.2654, -7.9723, -7.6716, -4.5634, -5.9771, -6.311, -5.3947, -6.0217, -6.4984, -6.0226, -6.2777, -6.3681, -6.8581, -6.1113, -6.278, -4.3966, -5.9263, -5.6853, -5.8235, -4.6098, -4.7755, -5.13, -5.0918, -5.3682, -5.4241, -5.6357, -5.9857, -5.2752, -5.6446, -5.8347, -5.9779, -5.8623, -5.8386, -5.8682, -5.8799, -5.9502, -5.9132, -5.9714, -11.1247, -11.5405, -11.5439, -11.0332, -11.0439, -11.3845, -11.61, -11.8976, -11.9077, -11.6207, -11.9084, -11.3981, -11.6235, -11.634, -11.2288, -10.5483, -12.3405, -11.9362, -11.94, -11.942, -11.4316, -11.2516, -11.9453, -12.3494, -12.3499, -12.3501, -11.9466, -11.9476, -11.9486, -12.3534, -11.4389, -10.2295, -11.442, -8.6973, -9.8661, -10.3699, -5.966, -9.499, -10.8724, -10.7705, -10.771, -5.4865, -5.799, -6.5939, -6.1065, -8.5574, -6.2304, -6.2744, -4.9869, -5.7247, -5.6928, -6.3953, -5.846, -7.7548, -4.4725, -6.679, -7.5508, -4.629, -4.3151, -5.6228, -6.7903, -5.9234, -4.9589, -7.2844, -5.6569, -6.0686, -5.0362, -6.1199, -6.9492, -6.4586, -5.3283, -5.2878, -6.334, -5.9237, -5.5329, -4.6821, -5.9934, -6.2985, -5.7407, -5.6008, -5.0652, -5.0638, -5.8081, -5.4372, -5.5859, -5.2998, -5.927, -5.8405, -5.8053], \"loglift\": [30.0, 29.0, 28.0, 27.0, 26.0, 25.0, 24.0, 23.0, 22.0, 21.0, 20.0, 19.0, 18.0, 17.0, 16.0, 15.0, 14.0, 13.0, 12.0, 11.0, 10.0, 9.0, 8.0, 7.0, 6.0, 5.0, 4.0, 3.0, 2.0, 1.0, 0.5008, 0.4762, 0.4602, 0.4432, 0.4371, 0.4335, 0.4325, 0.4315, 0.4301, 0.4293, 0.4251, 0.4113, 0.4093, 0.4093, 0.404, 0.4032, 0.4024, 0.4009, 0.3993, 0.397, 0.3956, 0.3949, 0.3924, 0.3917, 0.3909, 0.3905, 0.3901, 0.3881, 0.3862, 0.3861, 0.3712, 0.3842, 0.3657, 0.3752, 0.373, 0.247, 0.1986, 0.2627, 0.274, 0.2292, 0.2356, 0.2006, 0.1905, 0.2413, 0.2342, 0.1304, 0.345, 0.125, 0.2781, 0.1652, 0.1776, 0.2085, 0.1118, 0.1606, 0.2429, 0.2261, 0.0572, 0.1346, 0.1492, 0.0905, 0.1302, 0.1555, 0.12, 0.1324, 0.1373, 0.1732, 0.1139, 0.1193, -0.0413, 0.087, 0.0578, 0.0729, -0.0706, -0.0755, -0.0477, -0.0683, -0.0408, -0.0488, -0.0175, 0.0519, -0.1537, -0.0571, 0.0029, 0.0493, -0.0273, -0.0499, -0.1106, -0.1361, -0.0046, -0.2348, -0.0002, 0.5209, 0.5103, 0.5069, 0.4598, 0.4494, 0.445, 0.4425, 0.4422, 0.4321, 0.4319, 0.4315, 0.4314, 0.4288, 0.4202, 0.4197, 0.4065, 0.4044, 0.4042, 0.4005, 0.3991, 0.3986, 0.3964, 0.3959, 0.3957, 0.3955, 0.3952, 0.3943, 0.3929, 0.3922, 0.3921, 0.3916, 0.3779, 0.3886, 0.3492, 0.3564, 0.3641, 0.2631, 0.3321, 0.3713, 0.3679, 0.3674, 0.192, 0.1856, 0.2129, 0.1886, 0.2904, 0.1922, 0.1893, 0.1346, 0.1471, 0.1448, 0.1775, 0.1424, 0.2418, 0.0667, 0.1824, 0.2268, 0.071, 0.0402, 0.121, 0.1852, 0.1278, 0.0647, 0.2118, 0.1007, 0.129, 0.0461, 0.1228, 0.1841, 0.1444, 0.047, 0.0396, 0.1305, 0.0946, 0.0546, -0.0614, 0.0902, 0.1263, 0.048, 0.0174, -0.1447, -0.1518, 0.0269, -0.1275, -0.1007, -0.2513, 0.0539, -0.0029, -0.0621]}, \"token.table\": {\"Topic\": [1, 2, 1, 2, 1, 2, 1, 2, 1, 2, 1, 2, 1, 2, 1, 2, 1, 2, 1, 2, 1, 2, 1, 2, 1, 2, 1, 2, 1, 2, 1, 2, 1, 2, 1, 2, 1, 2, 1, 2, 1, 2, 1, 2, 1, 2, 1, 2, 1, 2, 1, 2, 2, 1, 2, 1, 2, 1, 2, 1, 2, 1, 2, 1, 2, 1, 2, 1, 2, 1, 2, 1, 2, 1, 2, 1, 2, 1, 2, 1, 2, 1, 2, 1, 2, 1, 2, 1, 2, 1, 2, 1, 2, 1, 2, 1, 2, 1, 2, 1, 2, 1, 2, 1, 2, 1, 2, 1, 2, 1, 2, 1, 2, 1, 2, 1, 2, 1, 2, 1, 2, 1, 2, 1, 2, 1, 2, 1, 2, 1, 2, 1, 2, 1, 2, 1, 2, 1, 2, 1, 2, 1, 2, 1, 2, 1, 2, 1, 2, 1, 2, 1, 2, 1, 2, 1, 2, 1, 2, 1, 2, 1, 2, 1, 2, 1, 2, 1, 2, 1, 2, 1, 2, 1, 2, 1, 2, 1, 2, 1, 2, 1, 2, 1, 2, 1, 2, 1, 2, 1, 2, 1, 2, 1, 2, 1, 2, 1, 2, 1, 2, 1, 2, 1, 2, 1, 2, 1, 2, 1, 2, 1, 2, 1, 2, 1, 2, 1, 2, 1, 2, 1, 2, 1, 2, 1, 2, 1, 2, 1, 2, 1, 2, 1, 2, 1, 2, 1, 2, 1, 2, 1, 2, 1, 2, 1, 2, 1, 2, 1, 2, 1, 2, 1, 2, 1, 2, 1, 2, 1, 2, 1, 2, 1, 2, 1, 2, 1, 2, 1, 2, 1, 2, 1, 2, 1, 2, 1, 2, 1, 2, 1, 2, 1, 2, 1, 2, 1, 2, 1, 2, 1, 2, 1, 2, 1, 2, 1, 2, 1, 2, 1, 2, 1, 2, 1, 2, 1, 2, 1, 2, 1, 2], \"Freq\": [0.7889206946730727, 0.26297356489102425, 0.4381429909996076, 0.561881420074097, 0.47487796562349827, 0.5249927466765313, 0.6131957674072853, 0.38663631624296346, 0.5870142698560878, 0.4120840174389737, 0.20792608282675268, 0.8317043313070107, 0.3464042145949432, 0.6928084291898864, 0.49425316739922165, 0.505921876241699, 0.5044410949319563, 0.4956185654938459, 0.3461749789620129, 0.6923499579240258, 0.4059479673870721, 0.5932252963416415, 0.7013971058697218, 0.3506985529348609, 0.3463409847002263, 0.6926819694004526, 0.3756253683445849, 0.6248383531116652, 0.5505424387181731, 0.44948196454658007, 0.45328770899912063, 0.5465567849248656, 0.7014151775755553, 0.35070758878777764, 0.42427558734638937, 0.5757258602978853, 0.575486042667386, 0.4246172224663275, 0.17279485016923604, 0.8639742508461802, 0.7891266454323431, 0.26304221514411436, 0.2914872240080208, 0.7078975440194791, 0.14837986188651062, 0.7418993094325531, 0.3121630464570304, 0.7283804417330709, 0.8418680642217541, 0.21046701605543852, 0.701332248224334, 0.350666124112167, 0.5187675042762386, 0.20783950084601158, 0.8313580033840463, 0.8416014338971195, 0.21040035847427987, 0.43442444487783893, 0.5653468803204753, 0.4015636188464131, 0.5987385694177058, 0.4019762354487116, 0.5972760102186044, 0.5190802477686257, 0.5190802477686257, 0.529348851288076, 0.47039143431826635, 0.6312247588763188, 0.37059001972738714, 0.20769350399563294, 0.8307740159825318, 0.36864785389727966, 0.6338944804819078, 0.518934098853774, 0.518934098853774, 0.60847639403207, 0.391706678658145, 0.259128182789717, 0.7773845483691509, 0.7894477631367612, 0.2631492543789204, 0.5727868478101804, 0.4271028480569708, 0.6007522062679849, 0.39928042977567285, 0.7894103271527458, 0.2631367757175819, 0.5907561842979242, 0.409416469497612, 0.5282162377571593, 0.47175606982587154, 0.7898922808175303, 0.26329742693917674, 0.5668285852390528, 0.4332968512163913, 0.639287007043357, 0.35959894146188826, 0.6534464741627323, 0.34668382069726955, 0.7011835865626095, 0.35059179328130474, 0.42559197438131363, 0.5745491654147734, 0.39894953758405016, 0.6008510067263432, 0.4030774949716695, 0.5966702703344069, 0.8417523683744093, 0.2104380920936023, 0.34595219152484835, 0.6919043830496967, 0.5842578087867933, 0.41594512877205486, 0.4350062159062701, 0.5648012758960287, 0.5189900771789777, 0.5189900771789777, 0.2777605999046584, 0.694401499761646, 0.2598204767980585, 0.7794614303941755, 0.4663627999157095, 0.5337466507775941, 0.8415096331323907, 0.21037740828309767, 0.5932068225460502, 0.4069920768241034, 0.7894503994610061, 0.2631501331536687, 0.7010626030958508, 0.3505313015479254, 0.431138527925586, 0.5688492459629938, 0.5325189046468681, 0.46751010330036735, 0.34595534403489897, 0.6919106880697979, 0.5410770257532499, 0.459062298553622, 0.260021172279065, 0.780063516837195, 0.5727792708935172, 0.4271678799446446, 0.6350763590789708, 0.36435470601005054, 0.3460041349029786, 0.6920082698059572, 0.3121574131304589, 0.7283672973044041, 0.7523967773119403, 0.30095871092477616, 0.34644333176289926, 0.6928866635257985, 0.7020244192203626, 0.3510122096101813, 0.790618146878252, 0.2635393822927507, 0.3463004544646899, 0.6926009089293798, 0.5188568428842901, 0.5188568428842901, 0.5698246775683689, 0.43022074309311864, 0.5326641171249105, 0.467025542408277, 0.43602645632455156, 0.5639399991863578, 0.6650280459898245, 0.33251402299491223, 0.3531605365233845, 0.6464373298971516, 0.3974801450648833, 0.6024170127319668, 0.6202030694914741, 0.38103979432809515, 0.8418436208989674, 0.21046090522474184, 0.3464400264247215, 0.692880052849443, 0.7016333578628033, 0.30070001051263, 0.3993556736497346, 0.6002635587507305, 0.4891657787265055, 0.5109064800032391, 0.7901826280195061, 0.2633942093398354, 0.5030181341874126, 0.497086316567278, 0.7012521497283258, 0.3506260748641629, 0.7007782263027654, 0.3503891131513827, 0.7893408716320751, 0.26311362387735837, 0.20768937730935694, 0.8307575092374277, 0.7018529193684824, 0.1754632298421206, 0.48253882121399233, 0.5175446907549195, 0.2595834216938075, 0.7787502650814225, 0.7015152876632397, 0.28060611506529587, 0.4389781490180287, 0.5608902722114101, 0.7007648778152975, 0.35038243890764875, 0.7008836152035512, 0.3504418076017756, 0.4794195676143155, 0.5206311174244983, 0.4266228097857268, 0.5732555435593217, 0.7890275751121816, 0.2630091917040605, 0.40159232889069146, 0.5975305216155853, 0.7665292305104454, 0.19163230762761135, 0.6144027157587293, 0.38548029958135455, 0.468624428386322, 0.5313815691889643, 0.6614277660072656, 0.3372843575003937, 0.5007151747747812, 0.49955878868985104, 0.5487707506674013, 0.45163770911747797, 0.29546664245995213, 0.7065506667520595, 0.48267503419965013, 0.517263109600658, 0.34618611295241136, 0.6923722259048227, 0.45033433287314845, 0.5499827809982706, 0.433253461061829, 0.5663380443924805, 0.5635893900967366, 0.43664795352135227, 0.14833054649533564, 0.7416527324766783, 0.7459069455877582, 0.2632612749133264, 0.24473520552767017, 0.7342056165830104, 0.576833840384437, 0.42301148294858715, 0.6433032070067775, 0.3580122195515979, 0.30967079599178826, 0.7037972636177006, 0.2591338764058488, 0.7774016292175464, 0.47889970186126946, 0.5210690271446167, 0.25952545957046885, 0.7785763787114065, 0.3977939771454768, 0.6027463775482986, 0.4261917427822903, 0.5745778731227211, 0.2078885547032988, 0.8315542188131952, 0.6361975717061085, 0.3635414695463477, 0.566747676345032, 0.4329811440399934, 0.6325807463060402, 0.36792961774943156, 0.33700888141851354, 0.6634862352926985, 0.2596043112667935, 0.7788129338003805, 0.6436896774317377, 0.3565139416296069, 0.45599425934658117, 0.5442726239653516, 0.231233508721507, 0.693700526164521, 0.4697691746932338, 0.5302436205788532, 0.7012889119287021, 0.35064445596435107, 0.3462264947451925, 0.692452989490385, 0.8418822464709208, 0.2104705616177302, 0.38438691474857895, 0.6155662335831334, 0.4755884907425026, 0.5247046824816528, 0.5975753522454412, 0.4023788188472169, 0.5740585362732682, 0.425944074189941, 0.17330365671639228, 0.6932146268655691, 0.4784438699379376, 0.521444507008806, 0.3843340060162906, 0.6132989457706765, 0.7891010388144853, 0.26303367960482843, 0.5623344768719523, 0.43774540115780713, 0.7011757479142581, 0.35058787395712904, 0.8105188549731133, 0.243155656491934], \"Term\": [\"'panini\", \"'panini\", \"'re\", \"'re\", \"'ve\", \"'ve\", \"...\", \"...\", \"....\", \"....\", \"1-10\", \"1-10\", \"20-something\", \"20-something\", \"also\", \"also\", \"always\", \"always\", \"anazazi\", \"anazazi\", \"another\", \"another\", \"anthro\", \"anthro\", \"antiquated\", \"antiquated\", \"attentive\", \"attentive\", \"back\", \"back\", \"bar\", \"bar\", \"below-average\", \"below-average\", \"best\", \"best\", \"better\", \"better\", \"bgf\", \"bgf\", \"blasting\", \"blasting\", \"bleu\", \"bleu\", \"blowdry\", \"blowdry\", \"bookman\", \"bookman\", \"breakfast/lunch\", \"breakfast/lunch\", \"bulkogi\", \"bulkogi\", \"burrio\", \"camelview\", \"camelview\", \"canidae\", \"canidae\", \"cheese\", \"cheese\", \"chicken\", \"chicken\", \"chip\", \"chip\", \"circle-k.\", \"circle-k.\", \"come\", \"come\", \"comfortable\", \"comfortable\", \"cookiez\", \"cookiez\", \"corn\", \"corn\", \"cornicopia\", \"cornicopia\", \"could\", \"could\", \"covet\", \"covet\", \"data\", \"data\", \"day\", \"day\", \"definitely\", \"definitely\", \"dillards\", \"dillards\", \"dish\", \"dish\", \"drink\", \"drink\", \"earl\", \"earl\", \"eat\", \"eat\", \"eating\", \"eating\", \"egg\", \"egg\", \"evanger\", \"evanger\", \"even\", \"even\", \"ever\", \"ever\", \"excellent\", \"excellent\", \"extremly\", \"extremly\", \"fargo\", \"fargo\", \"find\", \"find\", \"first\", \"first\", \"flaverful\", \"flaverful\", \"flavour\", \"flavour\", \"flo\", \"flo\", \"food\", \"food\", \"foxy\", \"foxy\", \"friendly\", \"friendly\", \"garmin\", \"garmin\", \"gator\", \"gator\", \"get\", \"get\", \"good\", \"good\", \"gooood\", \"gooood\", \"got\", \"got\", \"grady\", \"grady\", \"great\", \"great\", \"half\", \"half\", \"homme\", \"homme\", \"hubster\", \"hubster\", \"innova\", \"innova\", \"ito\", \"ito\", \"joann\", \"joann\", \"kerrie\", \"kerrie\", \"laveen\", \"laveen\", \"leinenkugel\", \"leinenkugel\", \"like\", \"like\", \"little\", \"little\", \"location\", \"location\", \"lol\", \"lol\", \"lot\", \"lot\", \"love\", \"love\", \"loved\", \"loved\", \"lube\", \"lube\", \"lucilles\", \"lucilles\", \"macy\", \"macy\", \"made\", \"made\", \"make\", \"make\", \"margaret\", \"margaret\", \"menu\", \"menu\", \"merchandising\", \"merchandising\", \"minisd\", \"minisd\", \"misinformation\", \"misinformation\", \"misir\", \"misir\", \"mover\", \"mover\", \"n't\", \"n't\", \"neds\", \"neds\", \"nibble\", \"nibble\", \"nice\", \"nice\", \"nuvi\", \"nuvi\", \"ny'er\", \"ny'er\", \"one\", \"one\", \"order\", \"order\", \"padi\", \"padi\", \"perfect\", \"perfect\", \"physician\", \"physician\", \"pizza\", \"pizza\", \"place\", \"place\", \"please\", \"please\", \"pretty\", \"pretty\", \"price\", \"price\", \"quesadilla\", \"quesadilla\", \"really\", \"really\", \"recital\", \"recital\", \"restaurant\", \"restaurant\", \"review\", \"review\", \"right\", \"right\", \"ringo\", \"ringo\", \"roadhouse\", \"roadhouse\", \"robin\", \"robin\", \"said\", \"said\", \"sale\", \"sale\", \"searching\", \"searching\", \"sebastian\", \"sebastian\", \"service\", \"service\", \"shuro\", \"shuro\", \"side\", \"side\", \"small\", \"small\", \"soi\", \"soi\", \"spot\", \"spot\", \"staff\", \"staff\", \"store\", \"store\", \"suggestion\", \"suggestion\", \"tara\", \"tara\", \"thing\", \"thing\", \"think\", \"think\", \"tiffany\", \"tiffany\", \"time\", \"time\", \"tootsy\", \"tootsy\", \"totaling\", \"totaling\", \"triathlon\", \"triathlon\", \"tried\", \"tried\", \"try\", \"try\", \"usually\", \"usually\", \"wait\", \"wait\", \"watt\", \"watt\", \"well\", \"well\", \"white\", \"white\", \"winco\", \"winco\", \"would\", \"would\", \"xao\", \"xao\", \"zia\", \"zia\"]}, \"R\": 30, \"lambda.step\": 0.01, \"plot.opts\": {\"xlab\": \"PC1\", \"ylab\": \"PC2\"}, \"topic.order\": [2, 1]};\n",
       "\n",
       "function LDAvis_load_lib(url, callback){\n",
       "  var s = document.createElement('script');\n",
       "  s.src = url;\n",
       "  s.async = true;\n",
       "  s.onreadystatechange = s.onload = callback;\n",
       "  s.onerror = function(){console.warn(\"failed to load library \" + url);};\n",
       "  document.getElementsByTagName(\"head\")[0].appendChild(s);\n",
       "}\n",
       "\n",
       "if(typeof(LDAvis) !== \"undefined\"){\n",
       "   // already loaded: just create the visualization\n",
       "   !function(LDAvis){\n",
       "       new LDAvis(\"#\" + \"ldavis_el1044020740620978722709555091\", ldavis_el1044020740620978722709555091_data);\n",
       "   }(LDAvis);\n",
       "}else if(typeof define === \"function\" && define.amd){\n",
       "   // require.js is available: use it to load d3/LDAvis\n",
       "   require.config({paths: {d3: \"https://d3js.org/d3.v5\"}});\n",
       "   require([\"d3\"], function(d3){\n",
       "      window.d3 = d3;\n",
       "      LDAvis_load_lib(\"https://cdn.jsdelivr.net/gh/bmabey/pyLDAvis@3.3.1/pyLDAvis/js/ldavis.v3.0.0.js\", function(){\n",
       "        new LDAvis(\"#\" + \"ldavis_el1044020740620978722709555091\", ldavis_el1044020740620978722709555091_data);\n",
       "      });\n",
       "    });\n",
       "}else{\n",
       "    // require.js not available: dynamically load d3 & LDAvis\n",
       "    LDAvis_load_lib(\"https://d3js.org/d3.v5.js\", function(){\n",
       "         LDAvis_load_lib(\"https://cdn.jsdelivr.net/gh/bmabey/pyLDAvis@3.3.1/pyLDAvis/js/ldavis.v3.0.0.js\", function(){\n",
       "                 new LDAvis(\"#\" + \"ldavis_el1044020740620978722709555091\", ldavis_el1044020740620978722709555091_data);\n",
       "            })\n",
       "         });\n",
       "}\n",
       "</script>"
      ],
      "text/plain": [
       "PreparedData(topic_coordinates=              x    y  topics  cluster       Freq\n",
       "topic                                           \n",
       "1      0.003508  0.0       1        1  50.285918\n",
       "0     -0.003508  0.0       2        1  49.714082, topic_info=       Term         Freq        Total Category  logprob  loglift\n",
       "69      ...  4241.000000  4241.000000  Default  30.0000  30.0000\n",
       "136   thing  1730.000000  1730.000000  Default  29.0000  29.0000\n",
       "171     lot  1302.000000  1302.000000  Default  28.0000  28.0000\n",
       "147    love  2259.000000  2259.000000  Default  27.0000  27.0000\n",
       "97    great  4862.000000  4862.000000  Default  26.0000  26.0000\n",
       "..      ...          ...          ...      ...      ...      ...\n",
       "6      back  1232.061612  2740.933112   Topic2  -5.5859  -0.1007\n",
       "69      ...  1640.224084  4241.712253   Topic2  -5.2998  -0.2513\n",
       "138     try   875.970373  1669.510544   Topic2  -5.9270   0.0539\n",
       "190  always   955.125955  1926.885041   Topic2  -5.8405  -0.0029\n",
       "398  little   989.382786  2117.657195   Topic2  -5.8053  -0.0621\n",
       "\n",
       "[210 rows x 6 columns], token_table=       Topic      Freq     Term\n",
       "term                           \n",
       "11202      1  0.788921  'panini\n",
       "11202      2  0.262974  'panini\n",
       "344        1  0.438143      're\n",
       "344        2  0.561881      're\n",
       "0          1  0.474878      've\n",
       "...      ...       ...      ...\n",
       "142        2  0.437745    would\n",
       "26096      1  0.701176      xao\n",
       "26096      2  0.350588      xao\n",
       "13587      1  0.810519      zia\n",
       "13587      2  0.243156      zia\n",
       "\n",
       "[313 rows x 3 columns], R=30, lambda_step=0.01, plot_opts={'xlab': 'PC1', 'ylab': 'PC2'}, topic_order=[2, 1])"
      ]
     },
     "execution_count": 31,
     "metadata": {},
     "output_type": "execute_result"
    }
   ],
   "source": [
    "# interacting with LDA output\n",
    "\n",
    "#!pip install pyldavis\n",
    "\n",
    "import pyLDAvis\n",
    "import pyLDAvis.gensim_models as gensimvis\n",
    "\n",
    "pyLDAvis.enable_notebook()\n",
    "\n",
    "vis = gensimvis.prepare(lda_model, bow_corpus, dic_bow)\n",
    "vis"
   ]
  },
  {
   "cell_type": "markdown",
   "metadata": {},
   "source": [
    "## Wordcloud"
   ]
  },
  {
   "cell_type": "code",
   "execution_count": 32,
   "metadata": {},
   "outputs": [
    {
     "data": {
      "image/png": "[encoded data removed]",
      "text/plain": [
       "<Figure size 864x864 with 1 Axes>"
      ]
     },
     "metadata": {
      "needs_background": "light"
     },
     "output_type": "display_data"
    }
   ],
   "source": [
    "from wordcloud import WordCloud, STOPWORDS\n",
    "stopwords = set(STOPWORDS)\n",
    "\n",
    "def show_wordcloud(data):\n",
    "    wordcloud = WordCloud(\n",
    "        background_color='white',\n",
    "        stopwords=stopwords,\n",
    "        max_words=100,\n",
    "        max_font_size=30,\n",
    "        scale=3,\n",
    "        random_state=42)\n",
    "   \n",
    "    wordcloud = wordcloud.generate(str(data))\n",
    "\n",
    "    fig = plt.figure(1, figsize=(12, 12))\n",
    "    plt.axis('off')\n",
    "\n",
    "    plt.imshow(wordcloud)\n",
    "    plt.show()\n",
    "\n",
    "show_wordcloud(corpus)"
   ]
  },
  {
   "cell_type": "markdown",
   "metadata": {},
   "source": [
    "## Sentiment"
   ]
  },
  {
   "cell_type": "code",
   "execution_count": 33,
   "metadata": {},
   "outputs": [
    {
     "data": {
      "text/plain": [
       "<AxesSubplot:>"
      ]
     },
     "execution_count": 33,
     "metadata": {},
     "output_type": "execute_result"
    },
    {
     "data": {
      "image/png": "[encoded data removed]",
      "text/plain": [
       "<Figure size 432x288 with 1 Axes>"
      ]
     },
     "metadata": {
      "needs_background": "light"
     },
     "output_type": "display_data"
    }
   ],
   "source": [
    "from textblob import TextBlob\n",
    "\n",
    "def polarity(text):\n",
    "    return TextBlob(text).sentiment.polarity\n",
    "\n",
    "data['polarity_score']= data['text'].apply(lambda x : polarity(x))\n",
    "data['polarity_score'].hist()"
   ]
  },
  {
   "cell_type": "code",
   "execution_count": null,
   "metadata": {},
   "outputs": [],
   "source": [
    "def sentiment(x):\n",
    "    if x< -0.2:\n",
    "        return 'neg'\n",
    "    elif x>=-0.2 and x<=0.2:\n",
    "        return 'neu'\n",
    "    else:\n",
    "        return 'pos'\n",
    "    \n",
    "data['polarity'] = data['polarity_score'].map(lambda x: sentiment(x))\n",
    "\n",
    "plt.figure(figsize=(8,6))\n",
    "plt.bar(data.polarity.value_counts().index,\n",
    "        data.polarity.value_counts()) \n",
    "plt.title(\"Polarity of Reviews\")"
   ]
  },
  {
   "cell_type": "code",
   "execution_count": null,
   "metadata": {},
   "outputs": [],
   "source": [
    "# data.to_csv(\"data/yelpSentiment.csv\")"
   ]
  },
  {
   "cell_type": "markdown",
   "metadata": {},
   "source": [
    "# NER"
   ]
  },
  {
   "cell_type": "code",
   "execution_count": null,
   "metadata": {},
   "outputs": [],
   "source": [
    "# !python -m spacy download en_core_web_sm"
   ]
  },
  {
   "cell_type": "code",
   "execution_count": null,
   "metadata": {},
   "outputs": [],
   "source": [
    "nlp = spacy.load(\"en_core_web_sm\")\n",
    "\n",
    "def ner(text):\n",
    "    doc = nlp(text)\n",
    "    return [X.label_ for X in doc.ents]\n",
    "\n",
    "ent = data['text'].apply(lambda x : ner(x))\n",
    "ent = [x for sub in ent for x in sub]\n",
    "\n",
    "counter = Counter(ent)\n",
    "count = counter.most_common()"
   ]
  },
  {
   "cell_type": "code",
   "execution_count": null,
   "metadata": {},
   "outputs": [],
   "source": [
    "# entity frequencies visualization\n",
    "x,y = map(list,zip(*count))\n",
    "sns.barplot(x=y, y=x)"
   ]
  },
  {
   "cell_type": "code",
   "execution_count": null,
   "metadata": {},
   "outputs": [],
   "source": [
    "# we can then visualize token per entity\n",
    "\n",
    "def ner(text,ent=\"ORG\"):\n",
    "    doc = nlp(text)\n",
    "    return [X.text for X in doc.ents if X.label_ == ent]\n",
    "\n",
    "org = data['text'].apply(lambda x: ner(x))\n",
    "org = [i for x in org for i in x]\n",
    "counter = Counter(org)\n",
    "\n",
    "x,y = map(list,zip(*counter.most_common(10)))\n",
    "sns.barplot(y, x)"
   ]
  },
  {
   "cell_type": "markdown",
   "metadata": {},
   "source": [
    "## POS Exploration"
   ]
  },
  {
   "cell_type": "code",
   "execution_count": null,
   "metadata": {},
   "outputs": [],
   "source": [
    "def pos(text):\n",
    "    pos=nltk.pos_tag(word_tokenize(text))\n",
    "    pos=list(map(list,zip(*pos)))[1]\n",
    "    return pos\n",
    "\n",
    "tags = data['text'].apply(lambda x : pos(x))\n",
    "tags=[x for l in tags for x in l]\n",
    "counter = Counter(tags)\n",
    "\n",
    "x,y = list(map(list,zip(*counter.most_common(7))))\n",
    "sns.barplot(x=y,y=x)"
   ]
  },
  {
   "cell_type": "markdown",
   "metadata": {},
   "source": [
    "- Noun (NN)\n",
    "- Verb (VB)\n",
    "- Adjective (JJ)\n",
    "- Adverb(RB)\n",
    "- Preposition (IN)\n",
    "- Conjunction (CC)\n",
    "- Pronoun(PRP)\n",
    "- Interjection (INT)"
   ]
  },
  {
   "cell_type": "code",
   "execution_count": null,
   "metadata": {},
   "outputs": [],
   "source": [
    "# drilling down even further: looking at NN\n",
    "def get_adjs(text):\n",
    "    adj=[]\n",
    "    pos = nltk.pos_tag(word_tokenize(text))\n",
    "    for word,tag in pos:\n",
    "        if tag=='NN':\n",
    "            adj.append(word)\n",
    "    return adj\n",
    "\n",
    "\n",
    "words = data['text'].apply(lambda x : get_adjs(x))\n",
    "words = [x for l in words for x in l]\n",
    "counter = Counter(words)\n",
    "\n",
    "x,y = list(map(list,zip(*counter.most_common(7))))\n",
    "sns.barplot(x=y, y=x)"
   ]
  },
  {
   "cell_type": "markdown",
   "metadata": {},
   "source": [
    "### Embeddings with BERT (Hugging Face's transformer architecture)"
   ]
  },
  {
   "cell_type": "code",
   "execution_count": null,
   "metadata": {},
   "outputs": [],
   "source": [
    "# be sure to download the pretrained transformer via the spaCy pipeline\n",
    "# !spacy download en_core_web_trf"
   ]
  },
  {
   "cell_type": "code",
   "execution_count": null,
   "metadata": {},
   "outputs": [],
   "source": [
    "# !pip install spacy-transformers"
   ]
  },
  {
   "cell_type": "code",
   "execution_count": null,
   "metadata": {},
   "outputs": [],
   "source": [
    "import en_core_web_trf"
   ]
  },
  {
   "cell_type": "code",
   "execution_count": null,
   "metadata": {},
   "outputs": [],
   "source": [
    "txt = \"The quick brown fox jumps over the lazy dog\""
   ]
  },
  {
   "cell_type": "code",
   "execution_count": null,
   "metadata": {},
   "outputs": [],
   "source": [
    "#Load the bert model\n",
    "nlp = en_core_web_trf.load()#spacy.load(\"en_core_web_trf\", disable=[\"tagger\", \"attribute_ruler\", \"lemmatizer\"])\n",
    "\n",
    "# get sentence embeddings from input text\n",
    "def get_embeddings(text):\n",
    "    return nlp(text).vector"
   ]
  },
  {
   "cell_type": "code",
   "execution_count": null,
   "metadata": {},
   "outputs": [],
   "source": [
    "# Generating sentence embedding from the text\n",
    "# data['embeddings'] = data['text'].apply(get_embeddings)\n",
    "\n",
    "df = get_embeddings(txt)\n",
    "df"
   ]
  },
  {
   "cell_type": "markdown",
   "metadata": {},
   "source": [
    "### Transformer outputs sequences longer than the maximum length for the model (537 > 512). We will truncate the output."
   ]
  },
  {
   "cell_type": "code",
   "execution_count": null,
   "metadata": {},
   "outputs": [],
   "source": [
    "# it takes time to run BERT so its better to save the updated data for future use\n",
    "# data.to_csv(\"data/yelp_embeddings.csv\")"
   ]
  },
  {
   "cell_type": "code",
   "execution_count": null,
   "metadata": {},
   "outputs": [],
   "source": [
    "# df = pd.read_csv(\"data/yelp_embeddings.csv\")"
   ]
  },
  {
   "cell_type": "code",
   "execution_count": null,
   "metadata": {},
   "outputs": [],
   "source": [
    "dataSentiment.head(1)"
   ]
  },
  {
   "cell_type": "code",
   "execution_count": 7,
   "metadata": {},
   "outputs": [
    {
     "data": {
      "text/html": [
       "<div>\n",
       "<style scoped>\n",
       "    .dataframe tbody tr th:only-of-type {\n",
       "        vertical-align: middle;\n",
       "    }\n",
       "\n",
       "    .dataframe tbody tr th {\n",
       "        vertical-align: top;\n",
       "    }\n",
       "\n",
       "    .dataframe thead th {\n",
       "        text-align: right;\n",
       "    }\n",
       "</style>\n",
       "<table border=\"1\" class=\"dataframe\">\n",
       "  <thead>\n",
       "    <tr style=\"text-align: right;\">\n",
       "      <th></th>\n",
       "      <th>text</th>\n",
       "      <th>polarity</th>\n",
       "    </tr>\n",
       "  </thead>\n",
       "  <tbody>\n",
       "    <tr>\n",
       "      <th>0</th>\n",
       "      <td>My girlfriend took me here on my anniversary f...</td>\n",
       "      <td>pos</td>\n",
       "    </tr>\n",
       "    <tr>\n",
       "      <th>1</th>\n",
       "      <td>I have no think why some people give bad revie...</td>\n",
       "      <td>pos</td>\n",
       "    </tr>\n",
       "    <tr>\n",
       "      <th>2</th>\n",
       "      <td>love the crust plate. gearloose is so good and...</td>\n",
       "      <td>pos</td>\n",
       "    </tr>\n",
       "  </tbody>\n",
       "</table>\n",
       "</div>"
      ],
      "text/plain": [
       "                                                text polarity\n",
       "0  My girlfriend took me here on my anniversary f...      pos\n",
       "1  I have no think why some people give bad revie...      pos\n",
       "2  love the crust plate. gearloose is so good and...      pos"
      ]
     },
     "execution_count": 7,
     "metadata": {},
     "output_type": "execute_result"
    }
   ],
   "source": [
    "dataAug[\"polarity\"] = dataSentiment[\"polarity\"]\n",
    "dataAug.rename(columns={\"augmented\": \"text\"}, inplace = True)\n",
    "dataAug.head(3)"
   ]
  },
  {
   "cell_type": "code",
   "execution_count": 8,
   "metadata": {},
   "outputs": [
    {
     "data": {
      "text/plain": [
       "(20000, 3)"
      ]
     },
     "execution_count": 8,
     "metadata": {},
     "output_type": "execute_result"
    }
   ],
   "source": [
    "merged_df = dataSentiment.append(dataAug, ignore_index=True)\n",
    "merged_df.shape"
   ]
  },
  {
   "cell_type": "markdown",
   "metadata": {},
   "source": [
    "## Base Clustering Algorithm"
   ]
  },
  {
   "cell_type": "code",
   "execution_count": null,
   "metadata": {},
   "outputs": [],
   "source": [
    "## Import libraries\n",
    "def clustering_question(data, NUM_CLUSTERS = 15):\n",
    "\n",
    "    sentences = data['text']\n",
    "\n",
    "    X = np.array(data['emb'].tolist())\n",
    "\n",
    "    kclusterer = KMeansClusterer(\n",
    "        NUM_CLUSTERS, distance=nltk.cluster.util.cosine_distance,\n",
    "        repeats=25,avoid_empty_clusters=True)\n",
    "\n",
    "    assigned_clusters = kclusterer.cluster(X, assign_clusters=True)\n",
    "\n",
    "    data['cluster'] = pd.Series(assigned_clusters, index=data.index)\n",
    "    data['centroid'] = data['cluster'].apply(lambda x: kclusterer.means()[x])\n",
    "\n",
    "    return data, assigned_clusters"
   ]
  },
  {
   "cell_type": "code",
   "execution_count": null,
   "metadata": {},
   "outputs": [],
   "source": [
    "def distance_from_centroid(row):\n",
    "    # type of emb and centroid is different, hence using tolist below\n",
    "    return distance_matrix([row['emb']], [row['centroid'].tolist()])[0][0]\n",
    "\n",
    "# Compute centroid distance to the data\n",
    "data['distance_from_centroid'] = data.apply(distance_from_centroid, axis=1)"
   ]
  },
  {
   "cell_type": "code",
   "execution_count": 12,
   "metadata": {},
   "outputs": [],
   "source": [
    "# df = dataSentiment.copy()\n",
    "df = data.copy()"
   ]
  },
  {
   "cell_type": "code",
   "execution_count": 13,
   "metadata": {},
   "outputs": [
    {
     "data": {
      "text/html": [
       "<div>\n",
       "<style scoped>\n",
       "    .dataframe tbody tr th:only-of-type {\n",
       "        vertical-align: middle;\n",
       "    }\n",
       "\n",
       "    .dataframe tbody tr th {\n",
       "        vertical-align: top;\n",
       "    }\n",
       "\n",
       "    .dataframe thead th {\n",
       "        text-align: right;\n",
       "    }\n",
       "</style>\n",
       "<table border=\"1\" class=\"dataframe\">\n",
       "  <thead>\n",
       "    <tr style=\"text-align: right;\">\n",
       "      <th></th>\n",
       "      <th>text</th>\n",
       "    </tr>\n",
       "  </thead>\n",
       "  <tbody>\n",
       "    <tr>\n",
       "      <th>0</th>\n",
       "      <td>My wife took me here on my birthday for breakf...</td>\n",
       "    </tr>\n",
       "    <tr>\n",
       "      <th>1</th>\n",
       "      <td>I have no idea why some people give bad review...</td>\n",
       "    </tr>\n",
       "    <tr>\n",
       "      <th>2</th>\n",
       "      <td>love the gyro plate. Rice is so good and I als...</td>\n",
       "    </tr>\n",
       "    <tr>\n",
       "      <th>3</th>\n",
       "      <td>Rosie, Dakota, and I LOVE Chaparral Dog Park!!...</td>\n",
       "    </tr>\n",
       "    <tr>\n",
       "      <th>4</th>\n",
       "      <td>General Manager Scott Petello is a good egg!!!...</td>\n",
       "    </tr>\n",
       "  </tbody>\n",
       "</table>\n",
       "</div>"
      ],
      "text/plain": [
       "                                                text\n",
       "0  My wife took me here on my birthday for breakf...\n",
       "1  I have no idea why some people give bad review...\n",
       "2  love the gyro plate. Rice is so good and I als...\n",
       "3  Rosie, Dakota, and I LOVE Chaparral Dog Park!!...\n",
       "4  General Manager Scott Petello is a good egg!!!..."
      ]
     },
     "execution_count": 13,
     "metadata": {},
     "output_type": "execute_result"
    }
   ],
   "source": [
    "df.head()"
   ]
  },
  {
   "cell_type": "markdown",
   "metadata": {},
   "source": [
    "## Base Classifier Algorithm"
   ]
  },
  {
   "cell_type": "code",
   "execution_count": 14,
   "metadata": {},
   "outputs": [
    {
     "data": {
      "text/html": [
       "<div>\n",
       "<style scoped>\n",
       "    .dataframe tbody tr th:only-of-type {\n",
       "        vertical-align: middle;\n",
       "    }\n",
       "\n",
       "    .dataframe tbody tr th {\n",
       "        vertical-align: top;\n",
       "    }\n",
       "\n",
       "    .dataframe thead th {\n",
       "        text-align: right;\n",
       "    }\n",
       "</style>\n",
       "<table border=\"1\" class=\"dataframe\">\n",
       "  <thead>\n",
       "    <tr style=\"text-align: right;\">\n",
       "      <th></th>\n",
       "      <th>text</th>\n",
       "      <th>polarity</th>\n",
       "      <th>category</th>\n",
       "    </tr>\n",
       "  </thead>\n",
       "  <tbody>\n",
       "    <tr>\n",
       "      <th>0</th>\n",
       "      <td>My wife took me here on my birthday for breakf...</td>\n",
       "      <td>pos</td>\n",
       "      <td>2</td>\n",
       "    </tr>\n",
       "    <tr>\n",
       "      <th>1</th>\n",
       "      <td>I have no idea why some people give bad review...</td>\n",
       "      <td>pos</td>\n",
       "      <td>2</td>\n",
       "    </tr>\n",
       "    <tr>\n",
       "      <th>2</th>\n",
       "      <td>love the gyro plate. Rice is so good and I als...</td>\n",
       "      <td>pos</td>\n",
       "      <td>2</td>\n",
       "    </tr>\n",
       "    <tr>\n",
       "      <th>3</th>\n",
       "      <td>Rosie, Dakota, and I LOVE Chaparral Dog Park!!...</td>\n",
       "      <td>pos</td>\n",
       "      <td>2</td>\n",
       "    </tr>\n",
       "    <tr>\n",
       "      <th>4</th>\n",
       "      <td>General Manager Scott Petello is a good egg!!!...</td>\n",
       "      <td>pos</td>\n",
       "      <td>2</td>\n",
       "    </tr>\n",
       "  </tbody>\n",
       "</table>\n",
       "</div>"
      ],
      "text/plain": [
       "                                                text polarity  category\n",
       "0  My wife took me here on my birthday for breakf...      pos         2\n",
       "1  I have no idea why some people give bad review...      pos         2\n",
       "2  love the gyro plate. Rice is so good and I als...      pos         2\n",
       "3  Rosie, Dakota, and I LOVE Chaparral Dog Park!!...      pos         2\n",
       "4  General Manager Scott Petello is a good egg!!!...      pos         2"
      ]
     },
     "execution_count": 14,
     "metadata": {},
     "output_type": "execute_result"
    }
   ],
   "source": [
    "dataSentiment.head()"
   ]
  },
  {
   "cell_type": "code",
   "execution_count": 15,
   "metadata": {},
   "outputs": [],
   "source": [
    "# label encoding the classes\n",
    "from sklearn.preprocessing import LabelEncoder\n",
    "encoder = LabelEncoder()\n",
    "\n",
    "encoder.fit(dataSentiment['polarity'])\n",
    "\n",
    "dataSentiment['category'] = encoder.transform(dataSentiment['polarity'])\n",
    "merged_df['category'] = encoder.transform(merged_df['polarity'])\n",
    "\n",
    "# train-test split\n",
    "def splitStep(df=dataSentiment, X=\"text\", y=\"category\", test_size=0.2, random_state=42):\n",
    "    from sklearn.model_selection import train_test_split\n",
    "\n",
    "    xtrain, xtest, ytrain, ytest = train_test_split(dataSentiment[X], dataSentiment[y], stratify=dataSentiment[y], test_size=test_size)\n",
    "\n",
    "    return xtrain, xtest, ytrain, ytest\n",
    "\n",
    "\n",
    "# word vectorizer\n",
    "def w2v(x, num_features=100): # xtrain & xtest will be accessed from the vectorizeStep (ignore warning)\n",
    "    import numpy as np\n",
    "    from gensim.models import Word2Vec\n",
    "\n",
    "    wordvec = Word2Vec(x, window=8, min_count=2, sample=1e-3, sg=1, workers=8) \n",
    "    vocab = set(wordvec.wv.index_to_key)\n",
    "    num_features = num_features\n",
    "\n",
    "    def average_word_vectors(tokens, model, vocabulary, num_features):\n",
    "        feature_vector = np.zeros((num_features,), dtype=\"float64\")\n",
    "        ntokens = 0.\n",
    "        for t in tokens:\n",
    "            if t in vocabulary: \n",
    "                ntokens = ntokens + 1.\n",
    "                feature_vector = np.add(feature_vector, model.wv[t])\n",
    "        if ntokens:\n",
    "            feature_vector = np.divide(feature_vector, ntokens)\n",
    "        return feature_vector\n",
    "\n",
    "    xTransformed = np.array([average_word_vectors(sent_tokens, wordvec, vocab, num_features) \n",
    "                    for sent_tokens in x]) \n",
    "    return xTransformed\n",
    "\n",
    "\n",
    "# document vectorizer\n",
    "def d2v(x):\n",
    "    from gensim.models.doc2vec import Doc2Vec, TaggedDocument\n",
    "\n",
    "    docs = [TaggedDocument(doc, [i]) for i, doc in enumerate(x)]\n",
    "    docvec = Doc2Vec(vector_size=100, window=3, min_count=4, workers=4, epochs=40)\n",
    "    docvec.build_vocab(docs)\n",
    "    docvec.train(docs, total_examples=docvec.corpus_count, epochs=docvec.epochs)\n",
    "\n",
    "    from gensim.utils import simple_preprocess\n",
    "    xTokenized = [simple_preprocess(h) for h in x]\n",
    "\n",
    "    xTransformed = [docvec.infer_vector(i) for i in xTokenized]\n",
    "\n",
    "    return xTransformed\n",
    "\n",
    "\n",
    "# transform data (options: TF-IDF, TF-IDF ngrams, word2vec, doc2vec)\n",
    "def vectorizeStep(inputData, fittingData=df.text, outputFormat=\"tfidf\"):\n",
    "    \n",
    "    # TF-IDF input\n",
    "    if outputFormat == \"tfidf\":\n",
    "        from sklearn.feature_extraction.text import TfidfVectorizer\n",
    "        vectorizer = TfidfVectorizer(\n",
    "                            strip_accents=\"unicode\", lowercase=True, analyzer='word', \n",
    "                            stop_words='english', max_df=0.95, min_df=0.05, max_features=500\n",
    "                                )\n",
    "        vectorizer.fit(fittingData)\n",
    "        \n",
    "        transformedData = vectorizer.transform(inputData)\n",
    "    \n",
    "    # TF-IDF ngrams input\n",
    "    elif outputFormat == \"ngrams\":\n",
    "        from sklearn.feature_extraction.text import TfidfVectorizer\n",
    "        vectorizer = TfidfVectorizer(\n",
    "                            strip_accents=\"unicode\", lowercase=True, analyzer='word', ngram_range=(2,3), \n",
    "                            max_df=0.95, min_df=0.05, max_features=500\n",
    "                            )\n",
    "        vectorizer.fit(fittingData)\n",
    "        \n",
    "        transformedData = vectorizer.transform(inputData)\n",
    "\n",
    "    # word vector input\n",
    "    elif outputFormat == \"word2vec\":\n",
    "        transformedData = w2v(inputData)\n",
    "\n",
    "    # document vector input\n",
    "    elif outputFormat == \"doc2vec\":\n",
    "        transformedData = d2v(inputData)\n",
    "        \n",
    "    return transformedData\n",
    "\n",
    "\n",
    "# train models\n",
    "def trainStep(classifier: str, x_input, y_input):\n",
    "    \n",
    "    # import GridSearchCV\n",
    "    from sklearn.model_selection import GridSearchCV\n",
    "\n",
    "    # create a SVC model using GridSearchCV\n",
    "    if classifier == \"svc\":\n",
    "        \n",
    "        # import SVC\n",
    "        from sklearn.svm import SVC\n",
    "\n",
    "        param_grid = {\n",
    "                        'C': [0.1, 1, 10, 100, 1000],'gamma': [1, 0.1, 0.01, 0.001, 0.0001],\n",
    "                        'kernel': ['linear', 'rbf', 'sigmoid']} \n",
    "        \n",
    "\n",
    "        \n",
    "        model = GridSearchCV(SVC(), param_grid, refit = True, verbose = 3)\n",
    "\n",
    "    # create an XGBoost model\n",
    "    elif classifier == \"xgboost\":\n",
    "        import xgboost\n",
    "        model = xgboost.XGBClassifier()\n",
    "\n",
    "    # create a knn model\n",
    "    elif classifier == \"knn\":\n",
    "\n",
    "        # import KNN\n",
    "        from sklearn.neighbors import KNeighborsClassifier\n",
    "\n",
    "        k_range = list(range(1, 31))\n",
    "        param_grid = dict(n_neighbors=k_range)\n",
    "        \n",
    "        model = GridSearchCV(KNeighborsClassifier(), param_grid, cv=10, scoring='accuracy')\n",
    "    \n",
    "    m = model.fit(x_input, y_input)\n",
    "    \n",
    "    return m\n",
    "\n",
    "\n",
    "# predict on the xtest \n",
    "def predictStep(trainedModel, x_input):\n",
    "    predictions = trainedModel.predict(x_input)\n",
    "    return predictions\n",
    "\n",
    "# evaluate on ytest \n",
    "def evaluateStep(ytrue, ypred):\n",
    "    from sklearn.metrics import precision_recall_fscore_support as score\n",
    "    from sklearn.metrics import accuracy_score\n",
    "    \n",
    "    precision,recall,fscore,_=score(ytrue,ypred, average='macro')\n",
    "    accuracy = accuracy_score(ytrue,ypred)\n",
    "\n",
    "    return round(precision,4), round(recall,4), round(fscore,4), round(accuracy,4) #,roc_auc\n",
    "    "
   ]
  },
  {
   "cell_type": "code",
   "execution_count": 16,
   "metadata": {},
   "outputs": [],
   "source": [
    "# dictionary to store f1 scores of different models\n",
    "f1ScoreMetrics = {'xgboost': [],'knn': []}\n",
    "\n",
    "# dictionary to store accuracy scores of different models\n",
    "accuracyScoreMetrics = {'xgboost': [],'knn': []}"
   ]
  },
  {
   "cell_type": "code",
   "execution_count": 17,
   "metadata": {},
   "outputs": [
    {
     "name": "stderr",
     "output_type": "stream",
     "text": [
      "c:\\Users\\echemochek\\anaconda3\\lib\\site-packages\\xgboost\\sklearn.py:1146: UserWarning: The use of label encoder in XGBClassifier is deprecated and will be removed in a future release. To remove this warning, do the following: 1) Pass option use_label_encoder=False when constructing XGBClassifier object; and 2) Encode your labels (y) as integers starting with 0, i.e. 0, 1, 2, ..., [num_class - 1].\n",
      "  warnings.warn(label_encoder_deprecation_msg, UserWarning)\n"
     ]
    },
    {
     "name": "stdout",
     "output_type": "stream",
     "text": [
      "[07:11:25] WARNING: C:/Users/Administrator/workspace/xgboost-win64_release_1.4.0/src/learner.cc:1095: Starting in XGBoost 1.3.0, the default evaluation metric used with the objective 'multi:softprob' was changed from 'merror' to 'mlogloss'. Explicitly set eval_metric if you'd like to restore the old behavior.\n"
     ]
    },
    {
     "name": "stderr",
     "output_type": "stream",
     "text": [
      "c:\\Users\\echemochek\\anaconda3\\lib\\site-packages\\xgboost\\sklearn.py:1146: UserWarning: The use of label encoder in XGBClassifier is deprecated and will be removed in a future release. To remove this warning, do the following: 1) Pass option use_label_encoder=False when constructing XGBClassifier object; and 2) Encode your labels (y) as integers starting with 0, i.e. 0, 1, 2, ..., [num_class - 1].\n",
      "  warnings.warn(label_encoder_deprecation_msg, UserWarning)\n"
     ]
    },
    {
     "name": "stdout",
     "output_type": "stream",
     "text": [
      "[07:11:43] WARNING: C:/Users/Administrator/workspace/xgboost-win64_release_1.4.0/src/learner.cc:1095: Starting in XGBoost 1.3.0, the default evaluation metric used with the objective 'multi:softprob' was changed from 'merror' to 'mlogloss'. Explicitly set eval_metric if you'd like to restore the old behavior.\n"
     ]
    },
    {
     "name": "stderr",
     "output_type": "stream",
     "text": [
      "c:\\Users\\echemochek\\anaconda3\\lib\\site-packages\\sklearn\\metrics\\_classification.py:1248: UndefinedMetricWarning: Precision and F-score are ill-defined and being set to 0.0 in labels with no predicted samples. Use `zero_division` parameter to control this behavior.\n",
      "  _warn_prf(average, modifier, msg_start, len(result))\n",
      "c:\\Users\\echemochek\\anaconda3\\lib\\site-packages\\sklearn\\metrics\\_classification.py:1248: UndefinedMetricWarning: Precision and F-score are ill-defined and being set to 0.0 in labels with no predicted samples. Use `zero_division` parameter to control this behavior.\n",
      "  _warn_prf(average, modifier, msg_start, len(result))\n"
     ]
    }
   ],
   "source": [
    "# train-test split the data \n",
    "xTrn, xTst, yTrn, yTst = splitStep(df=df, X=\"text\", y=\"category\")\n",
    "\n",
    "# models and inputs\n",
    "modelList = ['xgboost', 'knn']\n",
    "dataFormats = ['tfidf', 'ngrams']\n",
    "trainedModels = [] # to store the models we train to use later\n",
    "\n",
    "# fit model, train on training data, test on the testing set, append scores to dictionaries\n",
    "for model in modelList:\n",
    "    for dataFormat in dataFormats:\n",
    "\n",
    "        # vectorize\n",
    "        xtrainVectorized = vectorizeStep(xTrn, outputFormat=dataFormat)\n",
    "        xtestVectorized = vectorizeStep(xTst, outputFormat=dataFormat)\n",
    "\n",
    "        # train\n",
    "        trainedModel = trainStep(model, xtrainVectorized, yTrn)\n",
    "\n",
    "        # predict\n",
    "        ypreds = predictStep(trainedModel, xtestVectorized)\n",
    "\n",
    "        # evaluate\n",
    "        metrics = evaluateStep(yTst, ypreds)\n",
    "\n",
    "        # append trained models to a list and metrics to a dictionary\n",
    "        trainedModels.append(trainedModel) \n",
    "        f1ScoreMetrics[model].append(metrics[2])\n",
    "        accuracyScoreMetrics[model].append(metrics[3])"
   ]
  },
  {
   "cell_type": "code",
   "execution_count": 18,
   "metadata": {},
   "outputs": [
    {
     "data": {
      "text/html": [
       "<style type=\"text/css\">\n",
       "#T_b120b_row0_col0 {\n",
       "  background-color: yellow;\n",
       "}\n",
       "#T_b120b_row0_col1, #T_b120b_row1_col0, #T_b120b_row1_col1 {\n",
       "  background-color: ;\n",
       "}\n",
       "</style>\n",
       "<table id=\"T_b120b_\">\n",
       "  <thead>\n",
       "    <tr>\n",
       "      <th class=\"blank level0\" >&nbsp;</th>\n",
       "      <th class=\"col_heading level0 col0\" >xgboost</th>\n",
       "      <th class=\"col_heading level0 col1\" >knn</th>\n",
       "    </tr>\n",
       "  </thead>\n",
       "  <tbody>\n",
       "    <tr>\n",
       "      <th id=\"T_b120b_level0_row0\" class=\"row_heading level0 row0\" >tfidf</th>\n",
       "      <td id=\"T_b120b_row0_col0\" class=\"data row0 col0\" >0.531800</td>\n",
       "      <td id=\"T_b120b_row0_col1\" class=\"data row0 col1\" >0.449000</td>\n",
       "    </tr>\n",
       "    <tr>\n",
       "      <th id=\"T_b120b_level0_row1\" class=\"row_heading level0 row1\" >ngrams</th>\n",
       "      <td id=\"T_b120b_row1_col0\" class=\"data row1 col0\" >0.400300</td>\n",
       "      <td id=\"T_b120b_row1_col1\" class=\"data row1 col1\" >0.361500</td>\n",
       "    </tr>\n",
       "  </tbody>\n",
       "</table>\n"
      ],
      "text/plain": [
       "<pandas.io.formats.style.Styler at 0x27e0118f5b0>"
      ]
     },
     "execution_count": 18,
     "metadata": {},
     "output_type": "execute_result"
    }
   ],
   "source": [
    "# function for highlighting best model\n",
    "def highlight_cells(val):\n",
    "    color = 'yellow' if val == maxVal else ''\n",
    "    return 'background-color: {}'.format(color)\n",
    "\n",
    "\n",
    "# display f1 scores in a formatted dataframe\n",
    "f1_df = pd.DataFrame.from_dict(f1ScoreMetrics)\n",
    "f1_df.set_index([pd.Index(dataFormats)], inplace=True)\n",
    "\n",
    "maxVal = f1_df.max().max()\n",
    "f1_df.style.applymap(highlight_cells)"
   ]
  },
  {
   "cell_type": "code",
   "execution_count": 19,
   "metadata": {},
   "outputs": [
    {
     "data": {
      "text/html": [
       "<style type=\"text/css\">\n",
       "#T_cad61_row0_col0 {\n",
       "  background-color: yellow;\n",
       "}\n",
       "#T_cad61_row0_col1, #T_cad61_row1_col0, #T_cad61_row1_col1 {\n",
       "  background-color: ;\n",
       "}\n",
       "</style>\n",
       "<table id=\"T_cad61_\">\n",
       "  <thead>\n",
       "    <tr>\n",
       "      <th class=\"blank level0\" >&nbsp;</th>\n",
       "      <th class=\"col_heading level0 col0\" >xgboost</th>\n",
       "      <th class=\"col_heading level0 col1\" >knn</th>\n",
       "    </tr>\n",
       "  </thead>\n",
       "  <tbody>\n",
       "    <tr>\n",
       "      <th id=\"T_cad61_level0_row0\" class=\"row_heading level0 row0\" >tfidf</th>\n",
       "      <td id=\"T_cad61_row0_col0\" class=\"data row0 col0\" >0.754000</td>\n",
       "      <td id=\"T_cad61_row0_col1\" class=\"data row0 col1\" >0.620000</td>\n",
       "    </tr>\n",
       "    <tr>\n",
       "      <th id=\"T_cad61_level0_row1\" class=\"row_heading level0 row1\" >ngrams</th>\n",
       "      <td id=\"T_cad61_row1_col0\" class=\"data row1 col0\" >0.627500</td>\n",
       "      <td id=\"T_cad61_row1_col1\" class=\"data row1 col1\" >0.614500</td>\n",
       "    </tr>\n",
       "  </tbody>\n",
       "</table>\n"
      ],
      "text/plain": [
       "<pandas.io.formats.style.Styler at 0x27e01527910>"
      ]
     },
     "execution_count": 19,
     "metadata": {},
     "output_type": "execute_result"
    }
   ],
   "source": [
    "# display recall scores in a formatted dataframe\n",
    "accuracy_df = pd.DataFrame.from_dict(accuracyScoreMetrics)\n",
    "accuracy_df.set_index([pd.Index(dataFormats)], inplace=True)\n",
    "\n",
    "maxVal = accuracy_df.max().max()\n",
    "accuracy_df.style.applymap(highlight_cells)"
   ]
  },
  {
   "cell_type": "code",
   "execution_count": 20,
   "metadata": {},
   "outputs": [
    {
     "data": {
      "text/plain": [
       "XGBClassifier(base_score=0.5, booster='gbtree', colsample_bylevel=1,\n",
       "              colsample_bynode=1, colsample_bytree=1, gamma=0, gpu_id=-1,\n",
       "              importance_type='gain', interaction_constraints='',\n",
       "              learning_rate=0.300000012, max_delta_step=0, max_depth=6,\n",
       "              min_child_weight=1, missing=nan, monotone_constraints='()',\n",
       "              n_estimators=100, n_jobs=12, num_parallel_tree=1,\n",
       "              objective='multi:softprob', random_state=0, reg_alpha=0,\n",
       "              reg_lambda=1, scale_pos_weight=None, subsample=1,\n",
       "              tree_method='exact', validate_parameters=1, verbosity=None)"
      ]
     },
     "execution_count": 20,
     "metadata": {},
     "output_type": "execute_result"
    }
   ],
   "source": [
    "# the winning model is stored in the trainedModels list in index 4\n",
    "winningModel = trainedModels[1]\n",
    "winningModel"
   ]
  },
  {
   "cell_type": "markdown",
   "metadata": {},
   "source": [
    "### Now use the model on augmented data"
   ]
  },
  {
   "cell_type": "code",
   "execution_count": 21,
   "metadata": {},
   "outputs": [],
   "source": [
    "# dictionary to store f1 scores of different models\n",
    "f1ScoreMetricsAug = {'xgboost': []}\n",
    "\n",
    "# dictionary to store accuracy scores of different models\n",
    "accuracyScoreMetricsAug = {'xgboost': []}"
   ]
  },
  {
   "cell_type": "code",
   "execution_count": 22,
   "metadata": {},
   "outputs": [],
   "source": [
    "merged_df.dropna(inplace=True)"
   ]
  },
  {
   "cell_type": "code",
   "execution_count": 37,
   "metadata": {},
   "outputs": [
    {
     "name": "stderr",
     "output_type": "stream",
     "text": [
      "c:\\Users\\echemochek\\anaconda3\\lib\\site-packages\\xgboost\\sklearn.py:1146: UserWarning: The use of label encoder in XGBClassifier is deprecated and will be removed in a future release. To remove this warning, do the following: 1) Pass option use_label_encoder=False when constructing XGBClassifier object; and 2) Encode your labels (y) as integers starting with 0, i.e. 0, 1, 2, ..., [num_class - 1].\n",
      "  warnings.warn(label_encoder_deprecation_msg, UserWarning)\n"
     ]
    },
    {
     "name": "stdout",
     "output_type": "stream",
     "text": [
      "[07:28:59] WARNING: C:/Users/Administrator/workspace/xgboost-win64_release_1.4.0/src/learner.cc:1095: Starting in XGBoost 1.3.0, the default evaluation metric used with the objective 'multi:softprob' was changed from 'merror' to 'mlogloss'. Explicitly set eval_metric if you'd like to restore the old behavior.\n"
     ]
    }
   ],
   "source": [
    "xTrnAug = merged_df[\"text\"]\n",
    "yTrnAug = merged_df[\"category\"]\n",
    "\n",
    "\n",
    "# vectorize\n",
    "xtrainVectorizedAug = vectorizeStep(xTrnAug, fittingData=merged_df.text)\n",
    "\n",
    "#xtestVectorized = vectorizeStep(xTst, outputFormat=\"tfidf\")\n",
    "\n",
    "import xgboost\n",
    "modelAug = xgboost.XGBClassifier(base_score=0.5, booster='gbtree', colsample_bylevel=1,\n",
    "              colsample_bynode=1, colsample_bytree=1, gamma=0, gpu_id=-1,\n",
    "              importance_type='gain', interaction_constraints='',\n",
    "              learning_rate=0.300000012, max_delta_step=0, max_depth=6,\n",
    "              min_child_weight=1, monotone_constraints='()',\n",
    "              n_estimators=100, n_jobs=12, num_parallel_tree=1,\n",
    "              objective='multi:softprob', random_state=0, reg_alpha=0,\n",
    "              reg_lambda=1, scale_pos_weight=None, subsample=1,\n",
    "              tree_method='exact', validate_parameters=1, verbosity=None)\n",
    "modelAug.fit(xtrainVectorizedAug, yTrnAug)\n",
    "\n",
    "\n",
    "\n",
    "# train\n",
    "trainedModelAug = modelAug"
   ]
  },
  {
   "cell_type": "code",
   "execution_count": 43,
   "metadata": {},
   "outputs": [
    {
     "data": {
      "text/plain": [
       "'Highly recommend. This is my second time here and I see #3 on the way.\\nI\\'ve had the (bistec encebollado & arroz imperial with shrimp \"no melted cheese\") I do recommend both plates. Next time I will try (ropa vieja)\\nGreat service! Ask for Kelly.'"
      ]
     },
     "execution_count": 43,
     "metadata": {},
     "output_type": "execute_result"
    }
   ],
   "source": [
    "myXtest = xTst.tolist()"
   ]
  },
  {
   "cell_type": "code",
   "execution_count": 46,
   "metadata": {},
   "outputs": [],
   "source": [
    "xtestVectorized = vectorizeStep(inputData=myXtest, fittingData=merged_df.text, outputFormat=\"tfidf\")\n",
    "\n",
    "# predict\n",
    "import numpy \n",
    "ypredsAug = predictStep(trainedModelAug, xtestVectorized)\n",
    "\n",
    "# evaluate\n",
    "metricsAug = evaluateStep(yTst, ypredsAug)\n",
    "\n",
    "# append metrics to a dictionary\n",
    "f1ScoreMetricsAug[\"xgboost\"].append(metricsAug[2])\n",
    "accuracyScoreMetricsAug[\"xgboost\"].append(metricsAug[3])"
   ]
  },
  {
   "cell_type": "code",
   "execution_count": 49,
   "metadata": {},
   "outputs": [
    {
     "data": {
      "text/plain": [
       "{'xgboost': [0.8612]}"
      ]
     },
     "execution_count": 49,
     "metadata": {},
     "output_type": "execute_result"
    }
   ],
   "source": [
    "f1ScoreMetricsAug"
   ]
  },
  {
   "cell_type": "code",
   "execution_count": 50,
   "metadata": {},
   "outputs": [
    {
     "data": {
      "text/plain": [
       "{'xgboost': [0.9395]}"
      ]
     },
     "execution_count": 50,
     "metadata": {},
     "output_type": "execute_result"
    }
   ],
   "source": [
    "accuracyScoreMetricsAug"
   ]
  },
  {
   "cell_type": "code",
   "execution_count": 51,
   "metadata": {},
   "outputs": [
    {
     "data": {
      "text/html": [
       "<div>\n",
       "<style scoped>\n",
       "    .dataframe tbody tr th:only-of-type {\n",
       "        vertical-align: middle;\n",
       "    }\n",
       "\n",
       "    .dataframe tbody tr th {\n",
       "        vertical-align: top;\n",
       "    }\n",
       "\n",
       "    .dataframe thead th {\n",
       "        text-align: right;\n",
       "    }\n",
       "</style>\n",
       "<table border=\"1\" class=\"dataframe\">\n",
       "  <thead>\n",
       "    <tr style=\"text-align: right;\">\n",
       "      <th></th>\n",
       "      <th>text</th>\n",
       "      <th>polarity</th>\n",
       "      <th>category</th>\n",
       "    </tr>\n",
       "  </thead>\n",
       "  <tbody>\n",
       "    <tr>\n",
       "      <th>0</th>\n",
       "      <td>My wife took me here on my birthday for breakf...</td>\n",
       "      <td>pos</td>\n",
       "      <td>2</td>\n",
       "    </tr>\n",
       "    <tr>\n",
       "      <th>1</th>\n",
       "      <td>I have no idea why some people give bad review...</td>\n",
       "      <td>pos</td>\n",
       "      <td>2</td>\n",
       "    </tr>\n",
       "    <tr>\n",
       "      <th>2</th>\n",
       "      <td>love the gyro plate. Rice is so good and I als...</td>\n",
       "      <td>pos</td>\n",
       "      <td>2</td>\n",
       "    </tr>\n",
       "    <tr>\n",
       "      <th>3</th>\n",
       "      <td>Rosie, Dakota, and I LOVE Chaparral Dog Park!!...</td>\n",
       "      <td>pos</td>\n",
       "      <td>2</td>\n",
       "    </tr>\n",
       "    <tr>\n",
       "      <th>4</th>\n",
       "      <td>General Manager Scott Petello is a good egg!!!...</td>\n",
       "      <td>pos</td>\n",
       "      <td>2</td>\n",
       "    </tr>\n",
       "  </tbody>\n",
       "</table>\n",
       "</div>"
      ],
      "text/plain": [
       "                                                text polarity  category\n",
       "0  My wife took me here on my birthday for breakf...      pos         2\n",
       "1  I have no idea why some people give bad review...      pos         2\n",
       "2  love the gyro plate. Rice is so good and I als...      pos         2\n",
       "3  Rosie, Dakota, and I LOVE Chaparral Dog Park!!...      pos         2\n",
       "4  General Manager Scott Petello is a good egg!!!...      pos         2"
      ]
     },
     "execution_count": 51,
     "metadata": {},
     "output_type": "execute_result"
    }
   ],
   "source": [
    "dataSentiment.head()"
   ]
  }
 ],
 "metadata": {
  "kernelspec": {
   "display_name": "Python 3.8.12 ('base')",
   "language": "python",
   "name": "python3"
  },
  "language_info": {
   "codemirror_mode": {
    "name": "ipython",
    "version": 3
   },
   "file_extension": ".py",
   "mimetype": "text/x-python",
   "name": "python",
   "nbconvert_exporter": "python",
   "pygments_lexer": "ipython3",
   "version": "3.8.12"
  },
  "orig_nbformat": 4,
  "vscode": {
   "interpreter": {
    "hash": "a34fec39bca19239869142c7bb5030492fb37ddeaee88d8e8fdb42aa6668f7ec"
   }
  }
 },
 "nbformat": 4,
 "nbformat_minor": 2
}
